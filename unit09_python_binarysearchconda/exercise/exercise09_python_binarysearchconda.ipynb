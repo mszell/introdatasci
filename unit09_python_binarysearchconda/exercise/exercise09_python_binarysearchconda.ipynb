{
 "cells": [
  {
   "cell_type": "markdown",
   "metadata": {},
   "source": [
    "<div class=\"frontmatter text-center\">\n",
    "<h1>Introduction to Data Science and Programming</h1>\n",
    "<h2>Exercise 9: Python Crash Course - Binary search and conda</h2>\n",
    "<h3>IT University of Copenhagen, Fall 2023</h3>\n",
    "</div>"
   ]
  },
  {
   "cell_type": "markdown",
   "metadata": {},
   "source": [
    "* Task 1: `conda`\n",
    "* Task 2: Implementing a binary search algorithm\n",
    "* Task 3: Improving the efficiency of a recursive Fibonacci function with \"caching\""
   ]
  },
  {
   "cell_type": "markdown",
   "metadata": {},
   "source": [
    "# Task 1: Creating the `websoup` environment\n",
    "\n",
    "In this task, we will: \n",
    "* learn how to use conda to manage environments; \n",
    "* create an environment `websoup`; \n",
    "* and install the package `beautifulsoup4` (which we need for lecture & exercise 10).\n",
    "\n",
    "Detailed instructions are [here](https://github.com/anastassiavybornova/pythoncrashcourse/blob/main/exercise09_conda.md). \n",
    "\n",
    "> **Troubleshooting**: If you get lost within the detailed instructions, have no more time left, and really just want to install the `beautifulsoup4` package, then head [here](https://github.com/anastassiavybornova/pythoncrashcourse/blob/main/exercise09_justsoup.md) for instructions. (This is the minimum needed for you to be able to code along during lecture & exercise 10)."
   ]
  },
  {
   "cell_type": "markdown",
   "metadata": {},
   "source": [
    "# Task 2: `binary_search`\n",
    "\n",
    "Write a function `binary_search` that:\n",
    "* takes two input arguments: an **already sorted** list of numbers; and a **number**\n",
    "* returns `True` or `False`, depending on whether the number is on the list or not\n",
    "* implements a **binary search algorithm** (\"cutting the search space in half at each step\") to find out whether the number is on the list\n",
    "\n",
    "If you need some inspiration on how to approach this task, check out **Chapter 8  - Friday: Writing a Binary Search** from the book [**Python Projects for Beginners**](https://learnit.itu.dk/pluginfile.php/356837/mod_page/content/8/PythonProjectsForBeginners.pdf) (the PDF is available for download on the [Self-study resources page in learnIT](https://learnit.itu.dk/mod/page/view.php?id=185265)). \n",
    "\n",
    "You can use the `numbers.csv` file (provided with this notebook) to test your function:\n",
    "* `binary_search(4403)` should return `True` (4403 is on the list)\n",
    "* `binary_search(52301)` should return False (52301 is not on the list)"
   ]
  },
  {
   "cell_type": "code",
   "execution_count": null,
   "metadata": {},
   "outputs": [],
   "source": [
    "def binary_search(my_sorted_list, my_item):\n",
    "    '''\n",
    "    your docstring here\n",
    "    '''\n",
    "\n",
    "    # define the \"search limits\"\n",
    "\n",
    "    # while we still have a list with more than 1 number to search:\n",
    "\n",
    "        # find the \"middle index\" (// gives us integer division, always rounds down to next integer)\n",
    "        \n",
    "        # if the item at middle_index position is the one we're looking for,\n",
    "        # we're done! we found the item on the list - so return True\n",
    "        \n",
    "        # if at the \"middle\" position we have something SMALLER than my_item,\n",
    "        # my_item must be in the right half of the search space,\n",
    "        # so we need to modify the left limit:\n",
    "\n",
    "        # if at the \"middle\" position we have something BIGGER than my_item,\n",
    "        # then my_item must be in the left half of the search space,\n",
    "        # so we need to modify the right limit:\n",
    "\n",
    "    # the while loop ends when left_limit becomes smaller or equal to right limit,\n",
    "    # which means that we will have searched the entire space, but found no match;\n",
    "    # in that case it means our number is not on the list;\n",
    "    # then return False:"
   ]
  },
  {
   "cell_type": "markdown",
   "metadata": {},
   "source": [
    "**Read in the data from `numbers.csv` to a list**"
   ]
  },
  {
   "cell_type": "code",
   "execution_count": null,
   "metadata": {},
   "outputs": [],
   "source": [
    "# import pandas\n",
    "import pandas as pd\n",
    "# read in numbers.csv into dataframe called \"df\"; \n",
    "# header = None means that in the csv, the first line is not a header row, but already contains data\n",
    "df = pd.read_csv(\"files/numbers.csv\", header = None)\n",
    "# the numbers are in a column called \"0\" by default (because no header was provided);\n",
    "# use list() to convert the column into a list\n",
    "my_list = list(df[0])"
   ]
  },
  {
   "cell_type": "code",
   "execution_count": null,
   "metadata": {},
   "outputs": [],
   "source": [
    "# check if your binary_search function works as expected"
   ]
  },
  {
   "cell_type": "markdown",
   "metadata": {},
   "source": [
    "# Task 3: Recursive Fibonacci with memory caching\n",
    "\n",
    "> ADVANCED material!\n",
    "\n",
    "In the lecture, we got familiar with the recursive [Fibonacci sequence](https://en.wikipedia.org/wiki/Fibonacci_sequence) (where each number is the sum of the preceding two numbers). Below, we have already implemented a recursive function, `fib(n)`, that returns the n-th element of the Fibonacci sequence. \n",
    "\n",
    "Try to compute `fib(42)`; you will notice it takes a long time to compute (since the recursive function recomputes values `fib(n)` an exponential amount of times).\n",
    "\n",
    "Try to improve the performance of this function by implementing a new function, `fib_cache(n)`, which does exactly the same as `fib(n)`, but in addition uses a \"memory cache\" (in our case, a simple dictionary, defined OUTSIDE the function), where it stores all already computed values as key-value pairs (keys: `n`; values: `fib(n)`); and at each function call, does NOT recompute fib(n) for all n, but instead FIRST looks up the values the \"memory cache\" (the dictionary).\n",
    "\n",
    "Then, try to recompute the Fibonacci sequence for 42 by running `fib_cache(42)`; did the performance improve? Why? Do `fib(42)` and `fib_cache(42)` return the same results? And what is now inside the `memo_dict` dictionary?\n",
    "\n",
    "If you need some inspiration on how to approach this task, check out **Chapter 8  - Thursday, subchapters \"Understanding memoization\" and \"Using memoization\"** from the book [**Python Projects for Beginners**](https://learnit.itu.dk/pluginfile.php/356837/mod_page/content/8/PythonProjectsForBeginners.pdf) (the PDF is available for download on the [Self-study resources page in learnIT](https://learnit.itu.dk/mod/page/view.php?id=185265)). \n"
   ]
  },
  {
   "cell_type": "code",
   "execution_count": null,
   "metadata": {},
   "outputs": [],
   "source": [
    "# run this cell to define the simple fib(n) function (WITHOUT memory cache)\n",
    "def fib(n):\n",
    "    # base case:\n",
    "    if n == 1:\n",
    "        return 1\n",
    "    elif n == 0:\n",
    "        return 0\n",
    "    else:\n",
    "        return fib(n-1) + fib(n-2)"
   ]
  },
  {
   "cell_type": "code",
   "execution_count": null,
   "metadata": {},
   "outputs": [],
   "source": [
    "# try to compute fib(42)"
   ]
  },
  {
   "cell_type": "code",
   "execution_count": null,
   "metadata": {},
   "outputs": [],
   "source": [
    "# implement a function WITH memory cache\n",
    "\n",
    "# initialize an empty dictionary, will be used for \"caching\" the already computed fib(n) values\n",
    "memo_dict = {}\n",
    "\n",
    "# the function below considers two options:\n",
    "\n",
    "# option 1: we are calling fib_cache(n) for the first time for a given n (0, 1, 2, 3, ...)\n",
    "# then we need to: compute fib(n) for this n; save fib(n) in the memo_dict with key n; and then return fib(n).\n",
    "# (we are using the variable \"result\" for this)\n",
    "\n",
    "# option 2: we are calling fib_cache(n) for an n whose fibonacci number has already been computed;\n",
    "# then we need to just look it up in the dictionary\n",
    "\n",
    "def fib_cache(n):\n",
    "    \n",
    "    # \"option 2\" from above: if the fibonacci number for this n \n",
    "    # has already been calculated,\n",
    "    # look no further, just return its value from the memo_dict\n",
    "    \n",
    "    # \"option 1\" from above:\n",
    "    # else, if n is not in memo_dict,\n",
    "    # it means we haven't computed fib(n) yet, so let's \n",
    "    # do it here; start with \"base case\" 0 \n",
    "    \n",
    "    # save fibonacci number computed at this step as value to the dict\n",
    "    \n",
    "    # return the result variable (which now contains fib(n) for the given n)\n"
   ]
  },
  {
   "cell_type": "code",
   "execution_count": null,
   "metadata": {},
   "outputs": [],
   "source": [
    "# compute fib_cache(42), did perfomance improve?\n"
   ]
  },
  {
   "cell_type": "code",
   "execution_count": null,
   "metadata": {},
   "outputs": [],
   "source": [
    "# does fib(42) and fib_cache(42) return the same result?"
   ]
  },
  {
   "cell_type": "code",
   "execution_count": null,
   "metadata": {},
   "outputs": [],
   "source": [
    "# what is inside the memo_dict dictionary?"
   ]
  }
 ],
 "metadata": {
  "kernelspec": {
   "display_name": "Python 3 (ipykernel)",
   "language": "python",
   "name": "python3"
  },
  "language_info": {
   "codemirror_mode": {
    "name": "ipython",
    "version": 3
   },
   "file_extension": ".py",
   "mimetype": "text/x-python",
   "name": "python",
   "nbconvert_exporter": "python",
   "pygments_lexer": "ipython3",
   "version": "3.9.7"
  }
 },
 "nbformat": 4,
 "nbformat_minor": 2
}
