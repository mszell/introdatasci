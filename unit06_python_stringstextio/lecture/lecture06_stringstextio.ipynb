{
 "cells": [
  {
   "cell_type": "markdown",
   "metadata": {
    "slideshow": {
     "slide_type": "slide"
    }
   },
   "source": [
    "<div class=\"frontmatter text-center\">\n",
    "<h1>Introduction to Data Science and Programming</h1>\n",
    "<h2>Lecture 6: Python Crash Course - Strings, text, and IO</h2>\n",
    "<h3>IT University of Copenhagen, Fall 2023</h3>\n",
    "<h3>Instructor: Anastassia Vybornova</h3>\n",
    "</div>"
   ]
  },
  {
   "cell_type": "markdown",
   "metadata": {
    "slideshow": {
     "slide_type": "slide"
    }
   },
   "source": [
    "# Recap of last time\n",
    "\n",
    "* modulo `%` operator: `x % y` returns the remainder of the division `x/y` \n",
    "* assignment operators `+=, -=, *=, /=`: \"add/subtract/multiply/divide\" and assign\n",
    "* `None` object (absence of everything)\n",
    "\n"
   ]
  },
  {
   "cell_type": "markdown",
   "metadata": {
    "slideshow": {
     "slide_type": "slide"
    }
   },
   "source": [
    "# Recap of last time\n",
    "\n",
    "## Update on functions\n",
    "* returning multiple values: `return value1, value2`\n",
    "* **\"parameter\"** = temporary variable declared in the function **definition** `def function_name(parameter_name): ...`\n",
    "* **\"argument\"** = value passed into the function **call** `function_name(argument_value)`\n",
    "* functions can take several parameters `def function_name(param1, param2, param3, ...)`\n",
    "* there are required and optional parameters \n",
    "    * required: `def function_name(req_param)`\n",
    "    * optional: `def function_name(opt_param=default_value)` - optional parameters need a default value!\n",
    "* mixing required and optional parameters in a function call - **watch out for the right order!**"
   ]
  },
  {
   "cell_type": "code",
   "execution_count": null,
   "metadata": {
    "slideshow": {
     "slide_type": "slide"
    }
   },
   "outputs": [],
   "source": [
    "def sum_and_product(a, b, c):\n",
    "    return a+b+c, a*b*c\n",
    "\n",
    "sum_and_product(1,3,10) "
   ]
  },
  {
   "cell_type": "markdown",
   "metadata": {},
   "source": [
    "<hr>"
   ]
  },
  {
   "cell_type": "markdown",
   "metadata": {
    "slideshow": {
     "slide_type": "slide"
    }
   },
   "source": [
    "Today we will learn:\n",
    "\n",
    "* Built-in modules\n",
    "* Text processing"
   ]
  },
  {
   "cell_type": "markdown",
   "metadata": {
    "slideshow": {
     "slide_type": "slide"
    }
   },
   "source": [
    "**Introducing built-in modules**\n",
    "\n",
    "# Some easy tasks in Python?\n",
    "* Find the square root of 8.\n",
    "* Randomly choose a number from 1 to 6. (\"dice throw\")\n",
    "* Print the contents of your working directory (folder).\n",
    "\n",
    "**\"I'm sure there is a function to do this!\"**\n",
    "\n",
    "https://docs.python.org/3/library/functions.html"
   ]
  },
  {
   "cell_type": "markdown",
   "metadata": {
    "slideshow": {
     "slide_type": "slide"
    }
   },
   "source": [
    "# Some easy tasks in Python?\n",
    "* Find the square root of 8.\n",
    "* Print the contents of your working directory (folder).\n",
    "* Randomly choose a number from 1 to 6. (\"dice throw\")\n",
    "\n",
    "**\"I'm sure there is a** ~~function~~ **function in a module to do this!\"**\n",
    "\n",
    "\n",
    "There are many built-in modules in Python for different purposes: https://docs.python.org/3/py-modindex.html\n",
    "\n",
    "A module is a file containing Python definitions and statements; you can also make your own modules: https://docs.python.org/3/tutorial/modules.html\n"
   ]
  },
  {
   "cell_type": "markdown",
   "metadata": {
    "slideshow": {
     "slide_type": "slide"
    }
   },
   "source": [
    "# Some easy tasks in Python?\n",
    "* Find the square root of 8. --> `math` module\n",
    "* Randomly choose a number from 1 to 6. (\"dice throw\") --> `random` module\n",
    "* Print the contents of your working directory (folder). --> `os` (operating system) module\n",
    "\n",
    "**\"I'm sure there is a** ~~function~~ **function in a module to do this!\"**\n",
    "\n",
    "A module is a file containing Python definitions and statements. https://docs.python.org/3/tutorial/modules.html\n",
    "\n",
    "There are many built-in modules in Python for different purposes: https://docs.python.org/3/py-modindex.html\n"
   ]
  },
  {
   "cell_type": "code",
   "execution_count": null,
   "metadata": {
    "scrolled": true,
    "slideshow": {
     "slide_type": "slide"
    }
   },
   "outputs": [],
   "source": [
    "# the built-in modules \"come\" with Python, but we need to import them first:\n",
    "import math \n",
    "math"
   ]
  },
  {
   "cell_type": "code",
   "execution_count": null,
   "metadata": {
    "slideshow": {
     "slide_type": "slide"
    }
   },
   "outputs": [],
   "source": [
    "# the built-in modules \"come\" with Python, but we need to import them first:\n",
    "import math \n",
    "type(math)"
   ]
  },
  {
   "cell_type": "code",
   "execution_count": null,
   "metadata": {
    "slideshow": {
     "slide_type": "slide"
    }
   },
   "outputs": [],
   "source": [
    "# now we can use all functions within math, for example math.sqrt:\n",
    "math.sqrt(9)\n",
    "# the syntax is: module_name.function_name"
   ]
  },
  {
   "cell_type": "markdown",
   "metadata": {
    "slideshow": {
     "slide_type": "slide"
    }
   },
   "source": [
    "# Q: how do I know which functions even exist?\n",
    "\n",
    "* Scroll through the documentation of the module: https://docs.python.org/3/library/math.html\n",
    "* Google + [StackOverflow](https://stackoverflow.com) it\n",
    "* If you are using an IDE (e.g. PyCharm, VS Studio Code): you will get suggestions as you start typing the module name"
   ]
  },
  {
   "cell_type": "code",
   "execution_count": null,
   "metadata": {
    "slideshow": {
     "slide_type": "slide"
    }
   },
   "outputs": [],
   "source": [
    "# if we only need 1 function from the entire module, we can also just import that function:\n",
    "from math import sqrt\n",
    "# now we can use the function sqrt \"directly\" in our code:\n",
    "sqrt(25)"
   ]
  },
  {
   "cell_type": "code",
   "execution_count": null,
   "metadata": {
    "slideshow": {
     "slide_type": "slide"
    }
   },
   "outputs": [],
   "source": [
    "# if we are lazy typers, we can come up with an \"alias\" for a module:\n",
    "import math as mm\n",
    "# now, to call a function from that module, we just need to type the alias (not the entire module name):\n",
    "mm.sqrt(16)"
   ]
  },
  {
   "cell_type": "markdown",
   "metadata": {
    "slideshow": {
     "slide_type": "slide"
    }
   },
   "source": [
    "# Python syntax to import modules\n",
    "\n",
    "```python\n",
    "# to import an ENTIRE module\n",
    "import math\n",
    "# to use a function from that module\n",
    "math.sqrt()\n",
    "\n",
    "# to import only some FUNCTIONS from a module\n",
    "from math import sqrt\n",
    "# now we can use the function \"directly\"\n",
    "sqrt()\n",
    "\n",
    "# to import a module with a \"nickname\"\n",
    "import math as mm\n",
    "# now we use \"mm\" to refer to that module's functions\n",
    "mm.sqrt()\n",
    "```\n"
   ]
  },
  {
   "cell_type": "markdown",
   "metadata": {
    "slideshow": {
     "slide_type": "slide"
    }
   },
   "source": [
    "# Try it out yourself!\n",
    "\n",
    "(our \"easy tasks\" from before)\n",
    "* Find the square root of 8, with the `math` module and its `sqrt` function\n",
    "* Randomly choose a number from 1 to 6. (\"simulate a dice throw\"), with the  `random` module and its `choice` function\n",
    "* Print the contents of your working directory (folder), with the `os` (operating system) module and its `listdir` function\n",
    "\n",
    "If needed, you can check out the documentation of each module: look it up in the [Python Module Index](https://docs.python.org/3/py-modindex.html)."
   ]
  },
  {
   "cell_type": "code",
   "execution_count": null,
   "metadata": {
    "slideshow": {
     "slide_type": "slide"
    }
   },
   "outputs": [],
   "source": [
    "# find the square root of 8, using math and sqrt"
   ]
  },
  {
   "cell_type": "code",
   "execution_count": null,
   "metadata": {
    "slideshow": {
     "slide_type": "slide"
    }
   },
   "outputs": [],
   "source": [
    "# randomly choose a number from 1 to 6, using random and choice"
   ]
  },
  {
   "cell_type": "code",
   "execution_count": null,
   "metadata": {
    "slideshow": {
     "slide_type": "slide"
    }
   },
   "outputs": [],
   "source": [
    "# print the contents of the folder that your notebook is saved in, with os and listdir"
   ]
  },
  {
   "cell_type": "markdown",
   "metadata": {
    "slideshow": {
     "slide_type": "slide"
    }
   },
   "source": [
    "**Introducing Python packages**\n",
    "\n",
    "# Some slightly more complicated tasks in Python\n",
    "\n",
    "* Process tabular data (like an excel sheet).\n",
    "* Approximate a set of data points with a Gaussian curve.\n",
    "* Speed up the computation time for millions of data points.\n",
    "* Work with geospatial data (for example a map of land use patterns)\n",
    "* Make a line plot from a data set.\n",
    "* Make a very fancy line plot from a data set. \n",
    "* Find the shortest path from A to B on a network."
   ]
  },
  {
   "cell_type": "markdown",
   "metadata": {
    "slideshow": {
     "slide_type": "slide"
    }
   },
   "source": [
    "# Some slightly more complicated tasks in Python\n",
    "\n",
    "**I'm sure there's a** ~~function~~ ~~module~~ **`package` for this!**\n",
    "\n",
    "* Process tabular data (like an excel sheet). [**`pandas`**](https://pandas.pydata.org)\n",
    "* Approximate a set of data points with a Gaussian curve. [**`scipy`**](https://scipy.org)\n",
    "* Speed up the computation time for millions of data points . [**`numpy`**](https://numpy.org)\n",
    "* Work with geospatial data (for example a map of land use patterns) [**`geopandas`**](https://geopandas.org/en/stable/)\n",
    "* Make a line plot from a data set. [**`matplotlib`**](https://matplotlib.org)\n",
    "* Make a very fancy line plot from a data set. [**`seaborn`**](https://seaborn.pydata.org)\n",
    "* Find the shortest path from A to B on a network. [**`networkx`**](https://networkx.org)\n",
    "\n",
    "### These are NOT built-in, and need to be installed separately."
   ]
  },
  {
   "cell_type": "markdown",
   "metadata": {
    "slideshow": {
     "slide_type": "slide"
    }
   },
   "source": [
    "# Packages in Python - soft intro\n",
    "\n",
    "A package is (put very simply) a collection of modules and functions, for a specific & specialized purpose.\n",
    "\n",
    "It doesn't come with Python - you need to **install** it separately on your computer before using it.\n",
    "\n",
    "(Incomplete) list of Python packages: https://pypi.org\n",
    "\n",
    "To install packages, you can either do it completely manually (\"build from source\") or use a **package manager**, for example **`conda`**. \n",
    "\n",
    "We will work with only two Python packages: **`pandas`** and **`matplotlib`**."
   ]
  },
  {
   "cell_type": "markdown",
   "metadata": {
    "slideshow": {
     "slide_type": "slide"
    }
   },
   "source": [
    "## OMG: The Anaconda distribution contains both Python, AND many additional packages.\n",
    "\n",
    "Thanks to Anaconda, both `pandas` and `matplotlib` should aready be installed  (and you should be able to import them), so you don't need to install anything additional."
   ]
  },
  {
   "cell_type": "markdown",
   "metadata": {
    "slideshow": {
     "slide_type": "slide"
    }
   },
   "source": [
    "# Text processing in Python\n",
    "\n",
    "1. Formatting strings\n",
    "2. String methods + sidenote on string comparisons\n",
    "3. Regular expressions (`re`) module\n",
    "4. Reading and writing files"
   ]
  },
  {
   "cell_type": "markdown",
   "metadata": {
    "slideshow": {
     "slide_type": "slide"
    }
   },
   "source": [
    "# Text processing in Python\n",
    "\n",
    "## Pt 1: Formatting strings"
   ]
  },
  {
   "cell_type": "code",
   "execution_count": null,
   "metadata": {
    "slideshow": {
     "slide_type": "slide"
    }
   },
   "outputs": [],
   "source": [
    "name = \"Anastasia\"\n",
    "greeting = \"My name is \" + name + \". Nice to meet you!\"\n",
    "greeting\n",
    "# There MUST be a better way of doing this"
   ]
  },
  {
   "cell_type": "code",
   "execution_count": null,
   "metadata": {
    "slideshow": {
     "slide_type": "slide"
    }
   },
   "outputs": [],
   "source": [
    "name = \"Anastassia\"\n",
    "greeting = f\"My name is {name}. Nice to meet you!\"\n",
    "greeting"
   ]
  },
  {
   "cell_type": "code",
   "execution_count": null,
   "metadata": {
    "slideshow": {
     "slide_type": "slide"
    }
   },
   "outputs": [],
   "source": [
    "# this comes in handy if i need to repeat the same thing several times.\n",
    "# Let's say I want to say no to everyone.\n",
    "for person in [\"mum\", \"my friend\", \"my teacher\", \"little cat\"]:\n",
    "    print(f\"No, {person}, I don't want to!\")"
   ]
  },
  {
   "cell_type": "markdown",
   "metadata": {
    "slideshow": {
     "slide_type": "slide"
    }
   },
   "source": [
    "# String formatting - the easiest (?) way\n",
    "\n",
    "```python\n",
    "# to insert the value of a variable into a text,\n",
    "# use f\"\" instead of \"\" to create the string,\n",
    "# and add curly brackets around the variable name:\n",
    "f\"text {variable} text\"\n",
    "```"
   ]
  },
  {
   "cell_type": "code",
   "execution_count": null,
   "metadata": {
    "slideshow": {
     "slide_type": "slide"
    }
   },
   "outputs": [],
   "source": [
    "# Try it out yourself!\n",
    "\n",
    "# define a string variable \n",
    "\n",
    "# insert that variable in a string f\"...{variable}...\" and print the string"
   ]
  },
  {
   "cell_type": "markdown",
   "metadata": {
    "slideshow": {
     "slide_type": "slide"
    }
   },
   "source": [
    "# Text processing in Python\n",
    "\n",
    "## Pt 2: String methods\n",
    "\n",
    "* `.count()`\n",
    "* `.index()`\n",
    "* `.upper()` `.lower()` `.capitalize()` `.title()` \n",
    "* `.replace()`\n",
    "* `.split()`\n",
    "* `.format()`\n",
    "\n",
    "... and many more: https://docs.python.org/3/library/stdtypes.html#string-methods \n"
   ]
  },
  {
   "cell_type": "code",
   "execution_count": 2,
   "metadata": {
    "slideshow": {
     "slide_type": "slide"
    }
   },
   "outputs": [],
   "source": [
    "# let's define a string that contains a proverb:\n",
    "proverb = 'actions speak LOUDER than words.'"
   ]
  },
  {
   "cell_type": "code",
   "execution_count": null,
   "metadata": {
    "slideshow": {
     "slide_type": "slide"
    }
   },
   "outputs": [],
   "source": [
    "# .count() counts the number of times a character (or sequence of characters) appears\n",
    "proverb.count(\"a\")\n",
    "#proverb.count(\"actions\")"
   ]
  },
  {
   "cell_type": "code",
   "execution_count": null,
   "metadata": {
    "slideshow": {
     "slide_type": "slide"
    }
   },
   "outputs": [],
   "source": [
    "# .index() tells you the index of the FIRST occurrence of a character (or a sequence of characters)\n",
    "proverb.index(\"w\")\n",
    "# proverb.index(\"actions\")"
   ]
  },
  {
   "cell_type": "code",
   "execution_count": null,
   "metadata": {
    "slideshow": {
     "slide_type": "slide"
    }
   },
   "outputs": [],
   "source": [
    "# .upper() converts all characters into UPPER case\n",
    "proverb.upper() # this does NOT change the variable, but instead RETURNS the changed string!"
   ]
  },
  {
   "cell_type": "code",
   "execution_count": null,
   "metadata": {
    "slideshow": {
     "slide_type": "slide"
    }
   },
   "outputs": [],
   "source": [
    "# proverb_upper = proverb.upper()\n",
    "# print(proverb)\n",
    "# print(proverb_upper)"
   ]
  },
  {
   "cell_type": "code",
   "execution_count": null,
   "metadata": {
    "slideshow": {
     "slide_type": "slide"
    }
   },
   "outputs": [],
   "source": [
    "# .lower() converts all characters into lower case\n",
    "proverb.lower() # this does NOT change the object"
   ]
  },
  {
   "cell_type": "code",
   "execution_count": null,
   "metadata": {
    "slideshow": {
     "slide_type": "slide"
    }
   },
   "outputs": [],
   "source": [
    "# .capitalize() capitalizes ONLY the first character & changes all others into lower case\n",
    "proverb.capitalize() # this does NOT change the object"
   ]
  },
  {
   "cell_type": "code",
   "execution_count": null,
   "metadata": {
    "slideshow": {
     "slide_type": "slide"
    }
   },
   "outputs": [],
   "source": [
    "# .title() capitalizes ALL words (what is separated by white space)\n",
    "proverb.title() # this does NOT change the object"
   ]
  },
  {
   "cell_type": "code",
   "execution_count": null,
   "metadata": {
    "slideshow": {
     "slide_type": "slide"
    }
   },
   "outputs": [],
   "source": [
    "# .replace() replaces one sequence by another\n",
    "proverb.replace(\"words\", \"music\") # this does NOT change the object"
   ]
  },
  {
   "cell_type": "code",
   "execution_count": null,
   "metadata": {
    "slideshow": {
     "slide_type": "slide"
    }
   },
   "outputs": [],
   "source": [
    "# another example for replace: remove smth by replacing it \"with nothing\":\n",
    "proverb.replace(\" \", \"\") # all whitespaces (\" \") will be replaced by \"an empty string\""
   ]
  },
  {
   "cell_type": "code",
   "execution_count": null,
   "metadata": {
    "slideshow": {
     "slide_type": "slide"
    }
   },
   "outputs": [],
   "source": [
    "# another example for \"replace\": i'm missing a white space:\n",
    "proverb_without_whitespace = \"ActionsSpeak louder than words\"\n",
    "proverb_without_whitespace.replace(\"S\", \" s\") # replace the capital S by whitespace and small s"
   ]
  },
  {
   "cell_type": "code",
   "execution_count": 6,
   "metadata": {
    "slideshow": {
     "slide_type": "slide"
    }
   },
   "outputs": [
    {
     "data": {
      "text/plain": [
       "['actions', 'speak', 'LOUDER', 'than', 'words.']"
      ]
     },
     "execution_count": 6,
     "metadata": {
      "slideshow": {
       "slide_type": "slide"
      }
     },
     "output_type": "execute_result"
    }
   ],
   "source": [
    "# .split(character) will split the string at each appearance of the character\n",
    "proverb.split(\" \") # the character itself (here a white space) is not included anymore!"
   ]
  },
  {
   "cell_type": "code",
   "execution_count": null,
   "metadata": {
    "slideshow": {
     "slide_type": "slide"
    }
   },
   "outputs": [],
   "source": [
    "# .format() is a different way of inserting variable values into literal text\n",
    "# \"... speak louder than ...\" \n",
    "# let's say we want to insert \"apes\" and \"wolves\" in the string\n",
    "\n",
    "# BY ORDER:\n",
    "\"{} speak louder than {}\".format(\"apes\", \"wolves\") # by order (with empty curly braces)\n",
    "\n",
    "# by POSITION:\n",
    "\"{1} speak louder than {0}\".format(\"wolves\", \"apes\")\n",
    "\n",
    "# by NAME:\n",
    "\"{x} speak louder than {y}\".format(x = \"apes\", y = \"wolves\") # by variable name\n"
   ]
  },
  {
   "cell_type": "code",
   "execution_count": null,
   "metadata": {
    "slideshow": {
     "slide_type": "slide"
    }
   },
   "outputs": [],
   "source": [
    "# compare all 3 options above (variables defined in .format() ) \n",
    "# to the option we learned before (variables need to be predefined):\n",
    "x = \"apes\"\n",
    "y = \"wolves\"\n",
    "f\"{x} speak louder than {y}\""
   ]
  },
  {
   "cell_type": "markdown",
   "metadata": {
    "slideshow": {
     "slide_type": "slide"
    }
   },
   "source": [
    "### Side note on string comparisons"
   ]
  },
  {
   "cell_type": "code",
   "execution_count": null,
   "metadata": {
    "slideshow": {
     "slide_type": "slide"
    }
   },
   "outputs": [],
   "source": [
    "# statement with a comparison operator; evaluates to True OR False\n",
    "7 > 3"
   ]
  },
  {
   "cell_type": "code",
   "execution_count": null,
   "metadata": {
    "slideshow": {
     "slide_type": "slide"
    }
   },
   "outputs": [],
   "source": [
    "# Can Python tell me whether ABBA is greater than the Beatles?\n",
    "\"ABBA\" > \"The Beatles\""
   ]
  },
  {
   "cell_type": "code",
   "execution_count": null,
   "metadata": {
    "slideshow": {
     "slide_type": "slide"
    }
   },
   "outputs": [],
   "source": [
    "# comparing two strings == comparing their unicode order (case sensitive!)\n",
    "\"z\" > \"abc\"\n",
    "#\"word\" == \"word\"\n",
    "# \"Виктор Цой\" > \"Θεσσαλονίκη\"\n",
    "# max([\"monday\", \"marshmallow\", \"42\", \"pirate\", \"Astrid\"]) "
   ]
  },
  {
   "cell_type": "markdown",
   "metadata": {
    "slideshow": {
     "slide_type": "slide"
    }
   },
   "source": [
    "If you're curious about string comparisons: See the [Introduction to unicode in Python](https://docs.python.org/3/howto/unicode.html#introduction-to-unicode).\n",
    "\n",
    "If you're not too curious:\n",
    "\n",
    "### Main takeaway: BEWARE when interpreting string comparison as alphabetical comparison (it is UNICODE comparison)"
   ]
  },
  {
   "cell_type": "markdown",
   "metadata": {
    "slideshow": {
     "slide_type": "slide"
    }
   },
   "source": [
    "# Text processing in Python\n",
    "\n",
    "## Pt 3: Regular expressions (`re`) module\n",
    "\n",
    "https://docs.python.org/3/howto/regex.html\n",
    "\n",
    "Regular expressions are...\n",
    "\n",
    "* \"**tiny, highly specialized programming language** where you can specify the rules for the set of possible **strings that you want to match**\"\n",
    "* a well-known concept in computer science\n",
    "* used by many programming languages (perl, java, python...)\n",
    "* all about **finding matching string patterns**\n",
    "* useless to learn by heart (imho) - just know that they **exist**, in case you might need them\n",
    "\n",
    "```python\n",
    "# to use the re module, import it first:\n",
    "import re\n",
    "```"
   ]
  },
  {
   "cell_type": "markdown",
   "metadata": {
    "slideshow": {
     "slide_type": "slide"
    }
   },
   "source": [
    "```python\n",
    "# string: the string we're searching within\n",
    "# pattern: the pattern we're trying to find\n",
    "# it can be LITERAL (explicitly stating the pattern), or \n",
    "# expressed with REGEX - see list below\n",
    "re.search(pattern, string) # will show you whether pattern is in the string\n",
    "re.findall(pattern, string) # will return all matching patterns from the string\n",
    "\n",
    "```\n",
    "\n",
    "**How to make your own regex patterns (some EXAMPLES)**\n",
    "* `\\d` Matches any number\n",
    "* `\\D` Matches any non-number\n",
    "* `\\w` Matches any whitespace\n",
    "* `\\W` Matches any non-whitespace\n",
    "* `+` matches the preceding character 1 or more times\n",
    "* `[]` specifies a class you want to match\n",
    "* `-` within `[]` indicates a range\n",
    "* `[a-z]` matches all small letters from a to z"
   ]
  },
  {
   "cell_type": "code",
   "execution_count": null,
   "metadata": {
    "slideshow": {
     "slide_type": "slide"
    }
   },
   "outputs": [],
   "source": [
    "# first, we need to import the re module\n",
    "import re\n",
    "# now we can use it in this notebook"
   ]
  },
  {
   "cell_type": "code",
   "execution_count": null,
   "metadata": {
    "slideshow": {
     "slide_type": "slide"
    }
   },
   "outputs": [],
   "source": [
    "# LITERAL\n",
    "# re.search(pattern, string) tells us whether a pattern is contained in a string \n",
    "mypattern = \"a\" # try out other values\n",
    "mystring = \"Wakanda Forever, part 2\"\n",
    "re.search(mypattern, mystring)\n",
    "# if yes: we get back a \"Match object\" (don't worry about it); if no: we get back None (nothing)"
   ]
  },
  {
   "cell_type": "code",
   "execution_count": null,
   "metadata": {
    "slideshow": {
     "slide_type": "slide"
    }
   },
   "outputs": [],
   "source": [
    "# LITERAL\n",
    "# re.findall(pattern, string) RETURNS all pattern matches in a string \n",
    "mypattern = \"a\" # try out other values\n",
    "mystring = \"Wakanda Forever, part 2\"\n",
    "re.findall(mypattern, mystring)"
   ]
  },
  {
   "cell_type": "code",
   "execution_count": null,
   "metadata": {
    "slideshow": {
     "slide_type": "slide"
    }
   },
   "outputs": [],
   "source": [
    "# BY PATTERN (REGEX!!)\n",
    "# find only the numbers in the string: \"\\d\" pattern\n",
    "mypattern = \"\\d\" # this means: a single character which is a number\n",
    "mystring = \"Wakanda Forever, part 2\"\n",
    "re.findall(mypattern, mystring) # we found the number 2 in the string"
   ]
  },
  {
   "cell_type": "code",
   "execution_count": null,
   "metadata": {
    "slideshow": {
     "slide_type": "slide"
    }
   },
   "outputs": [],
   "source": [
    "# BY PATTERN (REGEX)\n",
    "# find only the numbers in the string: \"\\d\" pattern\n",
    "mypattern = \"\\d\" # this means: a single character which is a number\n",
    "mystring = \"12 plus 5 is 17\"\n",
    "re.findall(mypattern, mystring) # we found the numbers 1 in the string, but they actually should belong together"
   ]
  },
  {
   "cell_type": "code",
   "execution_count": null,
   "metadata": {
    "slideshow": {
     "slide_type": "slide"
    }
   },
   "outputs": [],
   "source": [
    "# BY PATTERN\n",
    "# find only the numbers in the string: \"\\d\" pattern\n",
    "mypattern = \"\\d+\" # this means: ONE OR MORE CONSECUTIVE characters which are number\n",
    "mystring = \"12 plus 5 is 17\"\n",
    "re.findall(mypattern, mystring) # we found the numbers 1 in the string, but they actually should belong together"
   ]
  },
  {
   "cell_type": "code",
   "execution_count": null,
   "metadata": {
    "slideshow": {
     "slide_type": "slide"
    }
   },
   "outputs": [],
   "source": [
    "# find everything which is NOT a number, \n",
    "mypattern = \"\\D\" # this means: every single character that is NOT a number\n",
    "mystring = \"Wakanda Forever, part 2\"\n",
    "re.findall(mypattern, mystring)"
   ]
  },
  {
   "cell_type": "code",
   "execution_count": null,
   "metadata": {
    "slideshow": {
     "slide_type": "slide"
    }
   },
   "outputs": [],
   "source": [
    "# find everything which is NOT a number, \n",
    "mypattern = \"\\D+\" # this means: ONE OR MORE CONSECUTIVE characters that are NOT numbers\n",
    "mystring = \"Wakanda Forever, part 2\"\n",
    "re.findall(mypattern, mystring)"
   ]
  },
  {
   "cell_type": "code",
   "execution_count": null,
   "metadata": {
    "slideshow": {
     "slide_type": "slide"
    }
   },
   "outputs": [],
   "source": [
    "# specify a class within a certain range\n",
    "mypattern = \"[A-Z]\" # all single uppercase letters\n",
    "mystring = \"Wakanda Forever, part 2\"\n",
    "re.findall(mypattern, mystring)"
   ]
  },
  {
   "cell_type": "markdown",
   "metadata": {
    "slideshow": {
     "slide_type": "slide"
    }
   },
   "source": [
    "Regex can get quite complicated; here's an example (see this [blogpost](https://www.sitepoint.com/demystifying-regex-with-practical-examples/#matching-password))\n",
    "\n",
    "\n",
    "Imagine the rules for a password pattern are:\n",
    "* contain at least 6 and at most 12 characters;\n",
    "* have at least 1 uppercase and at least 1 lowercase letter;\n",
    "* contain at least 1 digit;\n",
    "* AND contain special characters\n",
    "\n",
    "Then the regex expression that will match if the password matches pattern is: \n",
    "\n",
    "```python\n",
    "mypattern = \"^(?=.*[a-z])(?=.*[A-Z])(?=.*\\d).{6,12}$\"\n",
    "```\n",
    "\n",
    "\n",
    "you don't need to understand this >> just know it's possible\n"
   ]
  },
  {
   "cell_type": "code",
   "execution_count": null,
   "metadata": {
    "slideshow": {
     "slide_type": "slide"
    }
   },
   "outputs": [],
   "source": [
    "mypattern = \"^(?=.*[a-z])(?=.*[A-Z])(?=.*\\d).{6,12}$\"\n",
    "# mypassword = \"kittycat\" # NO MATCH\n",
    "# mypassword = \"KittyCat15!\" # MATCH\n",
    "# re.search(mypattern, mypassword)"
   ]
  },
  {
   "cell_type": "markdown",
   "metadata": {
    "slideshow": {
     "slide_type": "slide"
    }
   },
   "source": [
    "# Regular expressions (patterns) you will need for Exercise 06\n",
    "\n",
    "* `\"\\d\"` - find a single number character\n",
    "* `\"\\d+` - find one or more consecutive number characters\n",
    "* `\"[A-Z]\"` - find a single capital letter"
   ]
  },
  {
   "cell_type": "markdown",
   "metadata": {
    "slideshow": {
     "slide_type": "slide"
    }
   },
   "source": [
    "# Text processing in Python\n",
    "\n",
    "## Pt 4: Reading and writing files (Input/Output = IO)\n",
    "\n",
    "(will also use packages for this later, mostly pandas, but for now - let's do it DIY style)"
   ]
  },
  {
   "cell_type": "code",
   "execution_count": null,
   "metadata": {
    "slideshow": {
     "slide_type": "slide"
    }
   },
   "outputs": [],
   "source": [
    "# open a file\n",
    "f = open(\"data/poem.txt\", \"r\") # r is the mode (reading)\n",
    "f"
   ]
  },
  {
   "cell_type": "code",
   "execution_count": null,
   "metadata": {
    "slideshow": {
     "slide_type": "slide"
    }
   },
   "outputs": [],
   "source": [
    "# open a file and read it\n",
    "f = open(\"data/poem.txt\", \"r\")\n",
    "f.read() # the opened file has the .read() method"
   ]
  },
  {
   "cell_type": "code",
   "execution_count": null,
   "metadata": {
    "slideshow": {
     "slide_type": "slide"
    }
   },
   "outputs": [],
   "source": [
    "# open file, read it, AND SAVE THE TEXT TO A VARIABLE\n",
    "f = open(\"data/poem.txt\", \"r\")\n",
    "my_text = f.read()\n",
    "print(my_text)"
   ]
  },
  {
   "cell_type": "code",
   "execution_count": null,
   "metadata": {
    "slideshow": {
     "slide_type": "slide"
    }
   },
   "outputs": [],
   "source": [
    "# open file, read it, save text to a variable, and then CLOSE IT!\n",
    "f = open(\"data/poem.txt\", \"r\")\n",
    "my_text = f.read() # the opened file has the .read() method\n",
    "f.close()"
   ]
  },
  {
   "cell_type": "code",
   "execution_count": null,
   "metadata": {
    "slideshow": {
     "slide_type": "slide"
    }
   },
   "outputs": [],
   "source": [
    "# now we have the variable my_text...\n",
    "print(my_text[0:21])\n",
    "# and trying to access f (the opened file we defined before) will not work\n",
    "f.read()"
   ]
  },
  {
   "cell_type": "code",
   "execution_count": null,
   "metadata": {
    "slideshow": {
     "slide_type": "slide"
    }
   },
   "outputs": [],
   "source": [
    "# more common syntax:\n",
    "# use the \"with\" keyword, then file will be automatically closed once you're \"done\"\n",
    "# (after the indentation has ended)\n",
    "with open(\"data/poem.txt\", \"r\") as opened_file:\n",
    "    my_text = opened_file.read()\n",
    "my_text"
   ]
  },
  {
   "cell_type": "code",
   "execution_count": null,
   "metadata": {
    "slideshow": {
     "slide_type": "slide"
    }
   },
   "outputs": [],
   "source": [
    "# my text is a long string; linebreaks in original file are marked with \"\\n\" in the string\n",
    "# type(my_text)\n",
    "# len(my_text)\n",
    "# print(my_text)"
   ]
  },
  {
   "cell_type": "code",
   "execution_count": null,
   "metadata": {
    "slideshow": {
     "slide_type": "slide"
    }
   },
   "outputs": [],
   "source": [
    "# the .readlines() method\n",
    "with open(\"data/poem.txt\", \"r\") as opened_file:\n",
    "    my_text = opened_file.readlines()\n",
    "my_text\n",
    "# my_text is a list of strings - each element in the list is one line from the original file\n",
    "# type(my_text)\n",
    "# len(my_text)\n",
    "# print(my_text)"
   ]
  },
  {
   "cell_type": "code",
   "execution_count": null,
   "metadata": {
    "slideshow": {
     "slide_type": "slide"
    }
   },
   "outputs": [],
   "source": [
    "# Write files: same logic. open the file in \"w\" (Writing) mode and use the .write() method:\n",
    "file_content = \"just sitting here and writing files\"\n",
    "\n",
    "with open('myfile1.txt', 'w') as opened_file:\n",
    "    opened_file.write(file_content)\n",
    "# this is used if file_content is one single string"
   ]
  },
  {
   "cell_type": "code",
   "execution_count": null,
   "metadata": {
    "slideshow": {
     "slide_type": "slide"
    }
   },
   "outputs": [],
   "source": [
    "# OR use the .writelines() method\n",
    "# this is used if file_content is a list of strings\n",
    "file_content_list = [\"just\", \"sitting\", \"here\" , \"and\", \"writing\", \"files\"]\n",
    "\n",
    "with open('myfile2.txt', 'w') as opened_file:\n",
    "    opened_file.writelines(file_content_list)\n",
    "# be aware that the linebreak \"\\n\" is NOT automatically added!"
   ]
  },
  {
   "cell_type": "markdown",
   "metadata": {
    "slideshow": {
     "slide_type": "slide"
    }
   },
   "source": [
    "# Syntax for reading in & writing files\n",
    "\n",
    "```python\n",
    "### READING\n",
    "with open(\"filepath\", \"r\") as opened_file:\n",
    "    my_text = opened_file.read() \n",
    "# .read() will give you 1 single string\n",
    "\n",
    "with open(\"filepath\", \"r\") as opened_file:\n",
    "    my_text = opened_file.readlines() \n",
    "# .readlines() will give you 1 string for each line\n",
    "\n",
    "### WRITING\n",
    "with open(\"filepath\", \"w\") as opened_file:\n",
    "    opened_file.write(my_text) # if text is 1 single string\n",
    "\n",
    "with open(\"filepath\", \"w\") as opened_file:\n",
    "    opened_file.writelines(my_text) # if text is a list of strings (each string will be on separate line)\n",
    "```\n",
    "\n",
    "Note: the default mode is `\"r\"` (reading), so you don't *need* to specify it when reading in files."
   ]
  },
  {
   "cell_type": "markdown",
   "metadata": {
    "slideshow": {
     "slide_type": "slide"
    }
   },
   "source": [
    "# Try it out yourself!\n",
    "\n",
    "**Decode the secret message**\n",
    "\n",
    "* Read in the file `secret_message.txt`\n",
    "* Replace all numbers 4 with the letter \"a\"\n",
    "* Replace all numbers 9 with the letter \"n\"\n",
    "* Replace all numbers 1 with the letter \"e\"\n",
    "* Replace all hashtags with the letter \"m\" \n",
    "* Replace all @ with the letter \"s\"\n",
    "* Replace all !! with the letter \"o\"\n",
    "* Replace all \"zyz\" with whitespaces (\" \")\n",
    "* Write the decoded message to a text file called `decoded_message.txt` "
   ]
  },
  {
   "cell_type": "code",
   "execution_count": null,
   "metadata": {
    "slideshow": {
     "slide_type": "slide"
    }
   },
   "outputs": [],
   "source": [
    "# Read in the file\n",
    "with open(\"data/secret_message.txt\") as opened_file:\n",
    "    mess = opened_file.read()\n",
    "print(\"Encoded message:\", mess)\n"
   ]
  },
  {
   "cell_type": "code",
   "execution_count": null,
   "metadata": {
    "slideshow": {
     "slide_type": "slide"
    }
   },
   "outputs": [],
   "source": [
    "# Replace all characters, following the instructions\n",
    "mess = mess.replace(\"INSERT YOUR CODE HERE\")\n",
    "# ...\n"
   ]
  },
  {
   "cell_type": "code",
   "execution_count": null,
   "metadata": {
    "slideshow": {
     "slide_type": "slide"
    }
   },
   "outputs": [],
   "source": [
    "# When you're done with the replacements, print the decoded message:\n",
    "print(\"Decoded message:\", mess)"
   ]
  },
  {
   "cell_type": "code",
   "execution_count": null,
   "metadata": {
    "slideshow": {
     "slide_type": "slide"
    }
   },
   "outputs": [],
   "source": [
    "# Save it to a file:\n",
    "with open(\"data/decoded_message.txt\", \"w\") as opened_file:\n",
    "    mess = opened_file.write()"
   ]
  },
  {
   "cell_type": "code",
   "execution_count": null,
   "metadata": {
    "slideshow": {
     "slide_type": "slide"
    }
   },
   "outputs": [],
   "source": [
    "# open the file \"decoded_message\" (not in Python - just by double clicking on it)\n",
    "# to check if it looks like you expected"
   ]
  }
 ],
 "metadata": {
  "celltoolbar": "Slideshow",
  "kernelspec": {
   "display_name": "Python 3 (ipykernel)",
   "language": "python",
   "name": "python3"
  },
  "language_info": {
   "codemirror_mode": {
    "name": "ipython",
    "version": 3
   },
   "file_extension": ".py",
   "mimetype": "text/x-python",
   "name": "python",
   "nbconvert_exporter": "python",
   "pygments_lexer": "ipython3",
   "version": "3.9.7"
  }
 },
 "nbformat": 4,
 "nbformat_minor": 4
}
