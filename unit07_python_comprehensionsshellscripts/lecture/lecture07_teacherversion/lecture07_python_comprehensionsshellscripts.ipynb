{
 "cells": [
  {
   "cell_type": "markdown",
   "metadata": {
    "slideshow": {
     "slide_type": "slide"
    }
   },
   "source": [
    "<div class=\"frontmatter text-center\">\n",
    "<h1>Introduction to Data Science and Programming</h1>\n",
    "<h2>Lecture 7: Python Crash Course - Comprehensions, shell and scripts</h2>\n",
    "<h3>IT University of Copenhagen, Fall 2023</h3>\n",
    "<h3>Instructor: Anastassia Vybornova</h3>\n",
    "</div>"
   ]
  },
  {
   "cell_type": "markdown",
   "metadata": {
    "slideshow": {
     "slide_type": "slide"
    }
   },
   "source": [
    "# Recap of Lecture 06\n",
    "\n",
    "* Built-in modules\n",
    "* Text processing"
   ]
  },
  {
   "cell_type": "markdown",
   "metadata": {
    "slideshow": {
     "slide_type": "slide"
    }
   },
   "source": [
    "## Built-in modules\n",
    "\n",
    "* a module = a file containing function definitions & other code\n",
    "* built-in modules = come with Python, ready for you to use\n",
    "* `math, random, os`\n",
    "* you can also write your own modules\n",
    "* modules are not the same as **packages** (packages need to be installed separately)"
   ]
  },
  {
   "cell_type": "markdown",
   "metadata": {
    "slideshow": {
     "slide_type": "slide"
    }
   },
   "source": [
    "## Importing modules & functions\n",
    "\n",
    "```python\n",
    "### OPTION 1\n",
    "import math\n",
    "math.sqrt()\n",
    "\n",
    "### OPTION 2\n",
    "from math import sqrt\n",
    "sqrt()\n",
    "\n",
    "### OPTION 3\n",
    "import math as mm\n",
    "mm.sqrt()\n",
    "```\n"
   ]
  },
  {
   "cell_type": "markdown",
   "metadata": {
    "slideshow": {
     "slide_type": "slide"
    }
   },
   "source": [
    "## Dealing with strings\n",
    "\n",
    "#### String formatting\n",
    "```python\n",
    "f\"text {variable} text\"\n",
    "```\n"
   ]
  },
  {
   "cell_type": "markdown",
   "metadata": {
    "slideshow": {
     "slide_type": "slide"
    }
   },
   "source": [
    "#### String methods\n",
    "\n",
    "`.count()` `.index()` `.upper()` `.lower()` `.capitalize()` `.title()` `.replace()` `.split()` `.format()` \n",
    "\n",
    "string methods don't change the string object, but instead **return** the changed string"
   ]
  },
  {
   "cell_type": "markdown",
   "metadata": {
    "slideshow": {
     "slide_type": "slide"
    }
   },
   "source": [
    "#### Regular expressions\n",
    "\n",
    "... a tiny programming language for finding matching patterns in text\n",
    "```python\n",
    "import re # the regex module in python\n",
    "```"
   ]
  },
  {
   "cell_type": "markdown",
   "metadata": {
    "slideshow": {
     "slide_type": "slide"
    }
   },
   "source": [
    "## Reading in text from file\n",
    "\n",
    "in the \"context\" of `with`, the file is open\n",
    "\n",
    "```python\n",
    "with open(\"filepath\", \"r\") as opened_file:\n",
    "    my_text = opened_file.read() # or .readlines()\n",
    "```\n",
    "\n",
    "`.read()` reads the entire file into a single string\n",
    "\n",
    "`.readlines()` reads each line of the file into a separate string of a list"
   ]
  },
  {
   "cell_type": "markdown",
   "metadata": {
    "slideshow": {
     "slide_type": "slide"
    }
   },
   "source": [
    "### encoding = \"utf-8\" may solve your issues:\n",
    "\n",
    "```python\n",
    "with open(\"filepath\", \"r\", encoding = \"utf-8\") as opened_file:\n",
    "    my_text = opened_file.read() # or .readlines()\n",
    "```\n"
   ]
  },
  {
   "cell_type": "markdown",
   "metadata": {
    "slideshow": {
     "slide_type": "slide"
    }
   },
   "source": [
    "## Writing text to file\n",
    "\n",
    "in the \"context\" of `with`, the file is open\n",
    "\n",
    "```python\n",
    "with open(\"filepath\", \"w\") as opened_file:\n",
    "    opened_file.write() # or .writelines() \n",
    "```\n",
    "\n",
    "`.write()` takes a single string as input\n",
    "\n",
    "`.writelines()` takes a list of strings as input (don't forget `\"\\n\"` for linebreak)\n"
   ]
  },
  {
   "cell_type": "code",
   "execution_count": 1,
   "metadata": {
    "slideshow": {
     "slide_type": "slide"
    }
   },
   "outputs": [
    {
     "name": "stdout",
     "output_type": "stream",
     "text": [
      "Encoded message: #11tzyz#1zyz4tzyzth1zyzic1zyzcr14#zyz@h!!pzyz4tzyzthr11zyzp#zyz@h4rp.zyzc!!#1zyz4l!!91.zyz#4k1zyz@ur1zyzy!!u'r1zyz9!!tzyzf!!ll!!w1d.zyzc!!d1w!!rdzyzi@zyz@tr4ci4t1ll4.\n"
     ]
    }
   ],
   "source": [
    "# solution of last \"try it out yourself\" from last lecture:\n",
    "# decode the message\n",
    "\n",
    "### READ IN THE FILE INTO A STRING OBJECT CALLED mess\n",
    "with open(\"secret_message.txt\", \"r\") as opened_file:\n",
    "    mess = opened_file.read()\n",
    "print(\"Encoded message:\", mess)"
   ]
  },
  {
   "cell_type": "code",
   "execution_count": 4,
   "metadata": {
    "slideshow": {
     "slide_type": "slide"
    }
   },
   "outputs": [
    {
     "data": {
      "text/plain": [
       "\"#11tzyz#1zyzatzyzth1zyzic1zyzcr1a#zyz@h!!pzyzatzyzthr11zyzp#zyz@harp.zyzc!!#1zyzal!!91.zyz#ak1zyz@ur1zyzy!!u'r1zyz9!!tzyzf!!ll!!w1d.zyzc!!d1w!!rdzyzi@zyz@traciat1lla.\""
      ]
     },
     "execution_count": 4,
     "metadata": {},
     "output_type": "execute_result"
    }
   ],
   "source": [
    "### FOLLOW THE REPLACEMENT INSTRUCTIONS\n",
    "# replace all \"4\" with \"a\":\n",
    "mess = mess.replace(\"4\", \"a\")\n",
    "mess\n",
    "# note that i need to overwrite my object \"mess\"\n",
    "# with the new object (where replacement has been done)"
   ]
  },
  {
   "cell_type": "code",
   "execution_count": 5,
   "metadata": {
    "slideshow": {
     "slide_type": "slide"
    }
   },
   "outputs": [
    {
     "data": {
      "text/plain": [
       "\"meet me at the ice cream shop at three pm sharp. come alone. make sure you're not followed. codeword is straciatella.\""
      ]
     },
     "execution_count": 5,
     "metadata": {},
     "output_type": "execute_result"
    }
   ],
   "source": [
    "mess = mess.replace(\"9\", \"n\")\n",
    "mess = mess.replace(\"1\", \"e\")\n",
    "mess = mess.replace(\"#\", \"m\")\n",
    "mess = mess.replace(\"@\", \"s\")\n",
    "mess = mess.replace(\"!!\", \"o\")\n",
    "mess = mess.replace(\"zyz\", \" \")\n",
    "mess"
   ]
  },
  {
   "cell_type": "code",
   "execution_count": 6,
   "metadata": {
    "slideshow": {
     "slide_type": "slide"
    }
   },
   "outputs": [],
   "source": [
    "# write this to a file:\n",
    "with open(\"decoded_message.txt\", \"w\") as opened_file:\n",
    "    opened_file.write(mess)"
   ]
  },
  {
   "cell_type": "markdown",
   "metadata": {},
   "source": [
    "<hr>"
   ]
  },
  {
   "cell_type": "markdown",
   "metadata": {
    "slideshow": {
     "slide_type": "slide"
    }
   },
   "source": [
    "Today we will learn:\n",
    "\n",
    "* List comprehension\n",
    "* The Shell: GUI vs. CLI\n",
    "* CLI commands\n",
    "* creating and running Python scripts (`.py` files)\n",
    "* interactive Python scripts with `input()`\n",
    "* Absolute & relative file paths"
   ]
  },
  {
   "cell_type": "markdown",
   "metadata": {
    "slideshow": {
     "slide_type": "slide"
    }
   },
   "source": [
    "# List comprehension\n",
    "\n",
    "A powerful, \"Pythonic\" way to create lists."
   ]
  },
  {
   "cell_type": "code",
   "execution_count": 7,
   "metadata": {
    "slideshow": {
     "slide_type": "slide"
    }
   },
   "outputs": [
    {
     "data": {
      "text/plain": [
       "[1, 2, 3, 4, 5, 6, 7, 8, 9, 10]"
      ]
     },
     "execution_count": 7,
     "metadata": {},
     "output_type": "execute_result"
    }
   ],
   "source": [
    "# how to create a list of all numbers from 1 to 10?\n",
    "my_list = []\n",
    "for i in range(1,11):\n",
    "    my_list.append(i)\n",
    "my_list\n",
    "# this is perfectly valid, but we could also just do..."
   ]
  },
  {
   "cell_type": "code",
   "execution_count": 8,
   "metadata": {
    "slideshow": {
     "slide_type": "slide"
    }
   },
   "outputs": [
    {
     "data": {
      "text/plain": [
       "[1, 2, 3, 4, 5, 6, 7, 8, 9, 10]"
      ]
     },
     "execution_count": 8,
     "metadata": {},
     "output_type": "execute_result"
    }
   ],
   "source": [
    "# LIST COMPREHENSION:\n",
    "[i for i in range(1,11)]"
   ]
  },
  {
   "cell_type": "code",
   "execution_count": 9,
   "metadata": {
    "slideshow": {
     "slide_type": "slide"
    }
   },
   "outputs": [
    {
     "data": {
      "text/plain": [
       "[1, 4, 9, 16, 25, 36, 49, 64, 81, 100]"
      ]
     },
     "execution_count": 9,
     "metadata": {},
     "output_type": "execute_result"
    }
   ],
   "source": [
    "# how to create a list of all SQUARES \n",
    "# of the numbers from 1 to 10?\n",
    "my_list = []\n",
    "for i in range(1,11):\n",
    "    my_list.append(i**2)\n",
    "my_list\n",
    "# this is perfectly valid, but..."
   ]
  },
  {
   "cell_type": "code",
   "execution_count": 10,
   "metadata": {
    "slideshow": {
     "slide_type": "slide"
    }
   },
   "outputs": [
    {
     "data": {
      "text/plain": [
       "[1, 4, 9, 16, 25, 36, 49, 64, 81, 100]"
      ]
     },
     "execution_count": 10,
     "metadata": {},
     "output_type": "execute_result"
    }
   ],
   "source": [
    "# we could also use list comprehension:\n",
    "[i**2 for i in range(1,11)]"
   ]
  },
  {
   "cell_type": "code",
   "execution_count": 13,
   "metadata": {
    "slideshow": {
     "slide_type": "slide"
    }
   },
   "outputs": [
    {
     "data": {
      "text/plain": [
       "[1, 4, 9, 16, 25, 36, 49, 64, 81, 100]"
      ]
     },
     "execution_count": 13,
     "metadata": {},
     "output_type": "execute_result"
    }
   ],
   "source": [
    "# [expression for member in iterable], here with:\n",
    "[i**2 for i in range(1,11)]\n",
    "# expression ... i**2\n",
    "# member ... i\n",
    "# iterable ... range(1,11)"
   ]
  },
  {
   "cell_type": "code",
   "execution_count": 19,
   "metadata": {
    "slideshow": {
     "slide_type": "slide"
    }
   },
   "outputs": [
    {
     "data": {
      "text/plain": [
       "[0, 1, 2, 3, 4, 5, 6, 7, 8, 9, 10, 11, 12, 13, 14, 15, 16, 17, 18, 19]"
      ]
     },
     "execution_count": 19,
     "metadata": {},
     "output_type": "execute_result"
    }
   ],
   "source": [
    "# list of all numbers from 0 to 19\n",
    "[i for i in [i for i in range(20)]]"
   ]
  },
  {
   "cell_type": "code",
   "execution_count": 15,
   "metadata": {
    "slideshow": {
     "slide_type": "slide"
    }
   },
   "outputs": [
    {
     "data": {
      "text/plain": [
       "[0, 2, 4, 6, 8, 10, 12, 14, 16, 18]"
      ]
     },
     "execution_count": 15,
     "metadata": {},
     "output_type": "execute_result"
    }
   ],
   "source": [
    "# list of all EVEN numbers from 0 to 19\n",
    "[i for i in range(20) if i % 2 == 0]\n",
    "# we can also add a condition!"
   ]
  },
  {
   "cell_type": "code",
   "execution_count": null,
   "metadata": {
    "slideshow": {
     "slide_type": "slide"
    }
   },
   "outputs": [],
   "source": [
    "# list of all EVEN numbers from 0 to 20\n",
    "[i for i in range(20) if i % 2 == 0]\n",
    "# [expression for member in iterable if condition]\n",
    "# expression... i\n",
    "# member ... i\n",
    "# iterable ... range(20)\n",
    "# condition .... i%2 == 0 (\"i is even\")"
   ]
  },
  {
   "cell_type": "code",
   "execution_count": 18,
   "metadata": {
    "slideshow": {
     "slide_type": "slide"
    }
   },
   "outputs": [
    {
     "data": {
      "text/plain": [
       "['a', 'm', 'b', 'i', 'v', 'a', 'l', 'e', 'n', 'c', 'e']"
      ]
     },
     "execution_count": 18,
     "metadata": {},
     "output_type": "execute_result"
    }
   ],
   "source": [
    "# ... and as usual, it works for all other iterables, e.g. strings\n",
    "# create a list of all letters in a word that are NOT vowels\n",
    "word = \"ambivalence\"\n",
    "[x for x in word] #[ if letter not in [\"a\", \"e\", \"i\", \"o\", \"u\"]]"
   ]
  },
  {
   "cell_type": "markdown",
   "metadata": {
    "slideshow": {
     "slide_type": "slide"
    }
   },
   "source": [
    "# List comprehension\n",
    "\n",
    "A powerful, \"Pythonic\" way to create lists (and to replace for-loops).\n",
    "\n",
    "```python\n",
    "[expression for member in iterable]\n",
    "[expression for member in iterable if condition]\n",
    "``````"
   ]
  },
  {
   "cell_type": "markdown",
   "metadata": {
    "slideshow": {
     "slide_type": "slide"
    }
   },
   "source": [
    "# Try it out yourself!\n",
    "\n",
    "Use list comprehension to...\n",
    "* create a list of all numbers from 50 to 65\n",
    "* create a list of all numbers from 50 to 65 that are divisible by 3\n",
    "* create a list of **SQUARES** of all numbers from 50 to 65\n",
    "* create a list of **EVEN squares** of all numbers from 50 to 65"
   ]
  },
  {
   "cell_type": "code",
   "execution_count": 22,
   "metadata": {},
   "outputs": [
    {
     "data": {
      "text/plain": [
       "1.0"
      ]
     },
     "execution_count": 22,
     "metadata": {},
     "output_type": "execute_result"
    }
   ],
   "source": [
    "# 10 / 2 % 2 ...\n",
    "(10 / 2) % 2"
   ]
  },
  {
   "cell_type": "code",
   "execution_count": 23,
   "metadata": {
    "slideshow": {
     "slide_type": "slide"
    }
   },
   "outputs": [
    {
     "data": {
      "text/plain": [
       "[50, 51, 52, 53, 54, 55, 56, 57, 58, 59, 60, 61, 62, 63, 64, 65]"
      ]
     },
     "execution_count": 23,
     "metadata": {},
     "output_type": "execute_result"
    }
   ],
   "source": [
    "# list of all numbers from 50 to 65\n",
    "[i for i in range(50,66)]"
   ]
  },
  {
   "cell_type": "code",
   "execution_count": 24,
   "metadata": {
    "slideshow": {
     "slide_type": "slide"
    }
   },
   "outputs": [
    {
     "data": {
      "text/plain": [
       "[51, 54, 57, 60, 63]"
      ]
     },
     "execution_count": 24,
     "metadata": {},
     "output_type": "execute_result"
    }
   ],
   "source": [
    "# list of all numbers from 50 to 65 that are divisible by 3\n",
    "[i for i in range(50,66) if i % 3 == 0]"
   ]
  },
  {
   "cell_type": "code",
   "execution_count": 25,
   "metadata": {
    "slideshow": {
     "slide_type": "slide"
    }
   },
   "outputs": [
    {
     "data": {
      "text/plain": [
       "[2500,\n",
       " 2601,\n",
       " 2704,\n",
       " 2809,\n",
       " 2916,\n",
       " 3025,\n",
       " 3136,\n",
       " 3249,\n",
       " 3364,\n",
       " 3481,\n",
       " 3600,\n",
       " 3721,\n",
       " 3844,\n",
       " 3969,\n",
       " 4096,\n",
       " 4225]"
      ]
     },
     "execution_count": 25,
     "metadata": {},
     "output_type": "execute_result"
    }
   ],
   "source": [
    "# list of all squares of numbers from 50 to 65 \n",
    "[i**2 for i in range(50,66)]"
   ]
  },
  {
   "cell_type": "code",
   "execution_count": 26,
   "metadata": {
    "slideshow": {
     "slide_type": "slide"
    }
   },
   "outputs": [
    {
     "data": {
      "text/plain": [
       "[2500, 2704, 2916, 3136, 3364, 3600, 3844, 4096]"
      ]
     },
     "execution_count": 26,
     "metadata": {},
     "output_type": "execute_result"
    }
   ],
   "source": [
    "# list of EVEN squares of numbers from 50 to 65\n",
    "[i**2 for i in range(50,66) if i**2 % 2 == 0]"
   ]
  },
  {
   "cell_type": "markdown",
   "metadata": {
    "slideshow": {
     "slide_type": "slide"
    }
   },
   "source": [
    "# Shell: the place where your computer gets to have conversations\n",
    "\n",
    "both with you, the user; and with other programmes\n",
    "\n",
    "### GUI shell: graphical user interface\n",
    "### CLI shell: command line interface"
   ]
  },
  {
   "cell_type": "markdown",
   "metadata": {
    "slideshow": {
     "slide_type": "slide"
    }
   },
   "source": [
    "# A simple task on my computer?\n",
    "\n",
    "1. Go (\"navigate\") to the folder `lecture07` (where this notebook is saved);\n",
    "2. check out its contents;\n",
    "3. and then go (\"navigate\") to the enclosing folder of `lecture07`\n",
    "\n",
    "## let's try 2 strategies: GUI vs. CLI\n",
    "\n",
    "(shown live in class)"
   ]
  },
  {
   "cell_type": "markdown",
   "metadata": {
    "slideshow": {
     "slide_type": "slide"
    }
   },
   "source": [
    "# The command line interface (CLI)\n",
    "\n",
    "Command line interface - a chatroom with your computer!\n",
    "* you \"talk\" by typing in lines of text (commands)\n",
    "* your computer responds by printing out lines of text\n",
    "* you can do approx. the same as in the GUI\n",
    "* but in the CLI you can also **automate** workflows! (\"shell scripting\")\n",
    "\n",
    "You will learn later in this course how to have deep and meaningful conversations with your computer (managing files, running programmes, etc.) For now, we will stick to \"just\" Python smalltalk."
   ]
  },
  {
   "cell_type": "markdown",
   "metadata": {
    "slideshow": {
     "slide_type": "slide"
    }
   },
   "source": [
    "# The command line interface (CLI)\n",
    "\n",
    "Today, you will learn only 3 commands:\n",
    "1. how to print out the **name** of the current working directory\n",
    "2. how to print out the **contents** of the current working directory\n",
    "3. how to **move** \"up\" or \"down\" in the folder structure"
   ]
  },
  {
   "cell_type": "markdown",
   "metadata": {
    "slideshow": {
     "slide_type": "slide"
    }
   },
   "source": [
    "<style type=\"text/css\">\n",
    ".tg  {border-collapse:collapse;border-spacing:0;}\n",
    ".tg td{border-color:black;border-style:solid;border-width:1px;font-family:Arial, sans-serif;font-size:14px;\n",
    "  overflow:hidden;padding:10px 5px;word-break:normal;}\n",
    ".tg th{border-color:black;border-style:solid;border-width:1px;font-family:Arial, sans-serif;font-size:14px;\n",
    "  font-weight:normal;overflow:hidden;padding:10px 5px;word-break:normal;}\n",
    ".tg .tg-x5q1{font-size:16px;text-align:left;vertical-align:top}\n",
    ".tg .tg-bdfu{font-family:\"Courier New\", Courier, monospace !important;font-size:26px;text-align:center;vertical-align:top}\n",
    ".tg .tg-0lax{text-align:left;vertical-align:top}\n",
    ".tg .tg-9rkz{font-size:24px;font-weight:bold;text-align:center;vertical-align:top}\n",
    ".tg .tg-hyyc{font-family:\"Courier New\", Courier, monospace !important;font-size:28px;text-align:center;vertical-align:top}\n",
    "</style>\n",
    "<table class=\"tg\">\n",
    "<thead>\n",
    "  <tr>\n",
    "    <th class=\"tg-0lax\"></th>\n",
    "    <th class=\"tg-9rkz\">Windows (Anaconda prompt)</th>\n",
    "    <th class=\"tg-9rkz\">macOS (terminal)</th>\n",
    "  </tr>\n",
    "</thead>\n",
    "<tbody>\n",
    "  <tr>\n",
    "    <td class=\"tg-x5q1\">print out the current working directory</td>\n",
    "    <td class=\"tg-hyyc\">chdir</td>\n",
    "    <td class=\"tg-bdfu\">pwd</td>\n",
    "  </tr>\n",
    "  <tr>\n",
    "    <td class=\"tg-x5q1\">list contents of current working directory</td>\n",
    "    <td class=\"tg-hyyc\">dir</td>\n",
    "    <td class=\"tg-hyyc\">ls</td>\n",
    "  </tr>\n",
    "  <tr>\n",
    "    <td class=\"tg-x5q1\">move into &lt;subfolder&gt;</td>\n",
    "    <td class=\"tg-hyyc\" colspan=\"2\">cd &lt;subfoldername&gt;</td>\n",
    "  </tr>\n",
    "  <tr>\n",
    "    <td class=\"tg-x5q1\">move \"up\" one folder</td>\n",
    "    <td class=\"tg-hyyc\" colspan=\"2\">cd ..</td>\n",
    "  </tr>\n",
    "  <tr>\n",
    "    <td class=\"tg-x5q1\">move \"up\" two folders</td>\n",
    "    <td class=\"tg-hyyc\" colspan=\"2\">cd ../..</td>\n",
    "  </tr>\n",
    "  <tr>\n",
    "    <td class=\"tg-x5q1\">move \"up\" three folders</td>\n",
    "    <td class=\"tg-hyyc\" colspan=\"2\">cd ../../..</td>\n",
    "  </tr>\n",
    "</tbody>\n",
    "</table>"
   ]
  },
  {
   "cell_type": "markdown",
   "metadata": {
    "slideshow": {
     "slide_type": "slide"
    }
   },
   "source": [
    "# windows: `chdir, dir, cd`\n",
    "# macOS: `pwd, ls, cd`"
   ]
  },
  {
   "cell_type": "markdown",
   "metadata": {
    "slideshow": {
     "slide_type": "slide"
    }
   },
   "source": [
    "# Try it out yourself!\n",
    "\n",
    "1. Open your CLI:\n",
    "* if on Windows, open the **Anaconda Prompt** (NOT the Windows Terminal; NOT the PowerShell)\n",
    "* if on MacOS/linux, open the **Terminal**\n",
    "2. Try to navigate to the folder in which this notebook is saved on your machine (using `cd`)\n",
    "3. Print out the contents of the folder (using `dir` or `ls`)"
   ]
  },
  {
   "cell_type": "markdown",
   "metadata": {
    "slideshow": {
     "slide_type": "slide"
    }
   },
   "source": [
    "# Break until 11:15"
   ]
  },
  {
   "cell_type": "markdown",
   "metadata": {
    "slideshow": {
     "slide_type": "slide"
    }
   },
   "source": [
    "# You can also use your CLI to \"invoke\" the Python interpreter\n",
    "\n",
    "Just go to your CLI and type `python`, then press `enter`. The `>>>` indicate that we are in a Python environment now, and you can execute single staments (lines of code). To exit, type `exit()` and press `enter`.\n",
    "\n",
    "<p style=\"text-align:left;\">\n",
    "    <img src=\"images/pythonint.png\" alt=\"Invoking the Python interpreter\" width=1000px>\n",
    "</p>"
   ]
  },
  {
   "cell_type": "markdown",
   "metadata": {
    "slideshow": {
     "slide_type": "slide"
    }
   },
   "source": [
    "# Try it out yourself: Python from the command line\n",
    "\n",
    "1. Type `python` and press `enter`, now the first characters of the input line should be `>>>` - this means that you are now in a python environment! \n",
    "2. Type the simple python expression `3+4` and press enter. What happens?\n",
    "3. Type the simple python expression `print(\"hello computer\")` and press enter. What happens?\n",
    "4. Type `exit()` and press `enter`, what happens?\n",
    "5. Try to type the expressions from steps 2 & 3 once more, what happens now? "
   ]
  },
  {
   "cell_type": "markdown",
   "metadata": {
    "slideshow": {
     "slide_type": "slide"
    }
   },
   "source": [
    "# Creating python scripts\n",
    "\n",
    "Until now we have worked with jupyter notebooks (`.ipynb`): python code with lots of stuff around it. \n",
    "\n",
    "### Let's try to work with ONLY python code (`.py`). \n",
    "\n",
    "We can use ANY text editor to create `.py` files (set the file name extension `.py` manually when saving the file). \n"
   ]
  },
  {
   "cell_type": "code",
   "execution_count": 27,
   "metadata": {
    "slideshow": {
     "slide_type": "slide"
    }
   },
   "outputs": [
    {
     "name": "stdout",
     "output_type": "stream",
     "text": [
      "The sum of 5 and 3 is 8\n"
     ]
    }
   ],
   "source": [
    "# just a simple code snippet we will use as example\n",
    "x = 5\n",
    "y = 3\n",
    "mysum = x + y\n",
    "print(f\"The sum of {x} and {y} is {mysum}\")"
   ]
  },
  {
   "cell_type": "markdown",
   "metadata": {
    "slideshow": {
     "slide_type": "slide"
    }
   },
   "source": [
    "We copy-pasted this simple code snippet into a separate `myscript.py` file, **in the same location as this notebook**.\n",
    "\n",
    "To run the `myscript.py` file from our CLI, we need to:\n",
    "1. Open up our CLI\n",
    "2. Navigate to the folder of `myscript.py`\n",
    "3. Type `python myscript.py` and press `enter`\n",
    "\n",
    "(shown live in class: in code editor; and how to run from CLI)"
   ]
  },
  {
   "cell_type": "code",
   "execution_count": 28,
   "metadata": {
    "slideshow": {
     "slide_type": "slide"
    }
   },
   "outputs": [
    {
     "name": "stdout",
     "output_type": "stream",
     "text": [
      "The sum of 5 and 3 is 8\n"
     ]
    }
   ],
   "source": [
    "# we can also run the myscript.py file using the \"line magic command\" %run :\n",
    "%run \"myscript.py\""
   ]
  },
  {
   "cell_type": "markdown",
   "metadata": {
    "slideshow": {
     "slide_type": "slide"
    }
   },
   "source": [
    "# How to run a `.py` file (also called \"script\"):\n",
    "\n",
    "* from the CLI on your machine: `python <filename>.py`\n",
    "* within the Jupyter notebook: `%run <filename>.py`"
   ]
  },
  {
   "cell_type": "markdown",
   "metadata": {
    "slideshow": {
     "slide_type": "slide"
    }
   },
   "source": [
    "# Try it out yourself!\n",
    "\n",
    "1. Create a file called `myfirstprogram.py`, in the same folder as this notebook\n",
    "2. Copy-paste the code from `myscript.py` and change the code so that it SUBTRACTS `x-y` and prints out the difference (not the sum). \n",
    "3. Run `myfirstprogram.py` in this notebook (`%run myfirstprogram.py`) to check if the output is what you expected\n",
    "4. Open up your CLI and run the python script from there:\n",
    "     * navigate to the lecture07 folder\n",
    "     * type `python myfirstprogram.py` + press enter"
   ]
  },
  {
   "cell_type": "code",
   "execution_count": 30,
   "metadata": {
    "slideshow": {
     "slide_type": "slide"
    }
   },
   "outputs": [
    {
     "name": "stdout",
     "output_type": "stream",
     "text": [
      "The difference of 5 and 3 is 2\n"
     ]
    }
   ],
   "source": [
    "# run your file with %run myfirstprogram.py\n",
    "%run \"myfirstprogram.py\""
   ]
  },
  {
   "cell_type": "markdown",
   "metadata": {
    "slideshow": {
     "slide_type": "slide"
    }
   },
   "source": [
    "# Interactive scripts with input()\n",
    "\n",
    "`input()` \n",
    "* asks (\"prompts\") the user for input; and \n",
    "* returns the user input as a `string`"
   ]
  },
  {
   "cell_type": "code",
   "execution_count": 32,
   "metadata": {
    "slideshow": {
     "slide_type": "slide"
    }
   },
   "outputs": [
    {
     "name": "stdout",
     "output_type": "stream",
     "text": [
      "1234\n"
     ]
    },
    {
     "data": {
      "text/plain": [
       "'1234'"
      ]
     },
     "execution_count": 32,
     "metadata": {},
     "output_type": "execute_result"
    }
   ],
   "source": [
    "# you can try it out in jupyter notebook\n",
    "input()\n",
    "# running this cell will open up an interface where you can enter some text\n",
    "# enter some text and press the enter key\n",
    "# the text will be the output of this cell"
   ]
  },
  {
   "cell_type": "code",
   "execution_count": 33,
   "metadata": {
    "slideshow": {
     "slide_type": "slide"
    }
   },
   "outputs": [
    {
     "name": "stdout",
     "output_type": "stream",
     "text": [
      "What is your favourite number?9\n"
     ]
    },
    {
     "data": {
      "text/plain": [
       "'9'"
      ]
     },
     "execution_count": 33,
     "metadata": {},
     "output_type": "execute_result"
    }
   ],
   "source": [
    "# see what happens if you provide an argument to the input() function\n",
    "input(\"What is your favourite number?\")"
   ]
  },
  {
   "cell_type": "code",
   "execution_count": 34,
   "metadata": {
    "slideshow": {
     "slide_type": "slide"
    }
   },
   "outputs": [
    {
     "name": "stdout",
     "output_type": "stream",
     "text": [
      "What is your favourite number? 9\n"
     ]
    },
    {
     "data": {
      "text/plain": [
       "'9'"
      ]
     },
     "execution_count": 34,
     "metadata": {},
     "output_type": "execute_result"
    }
   ],
   "source": [
    "# it's nicer to add a whitespace at the end of the argument:\n",
    "input(\"What is your favourite number? \")"
   ]
  },
  {
   "cell_type": "code",
   "execution_count": 35,
   "metadata": {
    "slideshow": {
     "slide_type": "slide"
    }
   },
   "outputs": [
    {
     "name": "stdout",
     "output_type": "stream",
     "text": [
      "What is your favourite number? 9\n",
      "What is your favourite color? green\n",
      "9 green\n"
     ]
    }
   ],
   "source": [
    "# see what happens if you save the return value of input to a variable\n",
    "mynumber = input(\"What is your favourite number? \")\n",
    "mycolor = input(\"What is your favourite color? \")\n",
    "print(mynumber, mycolor)"
   ]
  },
  {
   "cell_type": "markdown",
   "metadata": {
    "slideshow": {
     "slide_type": "slide"
    }
   },
   "source": [
    "## Secret Agent name generator\n",
    "... having fun with user input.\n",
    "\n",
    "(shown live in class through text editor, then ran in CLI)"
   ]
  },
  {
   "cell_type": "markdown",
   "metadata": {
    "slideshow": {
     "slide_type": "slide"
    }
   },
   "source": [
    "## Paths: absolute & relative\n",
    "\n",
    "root directory: e.g. `C:/Windows` or `Macintosh HD` \n",
    "\n",
    "**note**: often the CLI will start from a **subfolder** of your root directory by default!"
   ]
  },
  {
   "cell_type": "markdown",
   "metadata": {
    "slideshow": {
     "slide_type": "slide"
    }
   },
   "source": [
    "### Absolute filepath (starts from root)\n",
    "\n",
    "(to this notebook, placed in the `lecture07` folder on Anastassia's machine): \n",
    "\n",
    "`/Users/anvy/OneDrive - ITU/teaching/ids/idsp-python/lectures/lecture07/lecture07.ipynb`"
   ]
  },
  {
   "cell_type": "markdown",
   "metadata": {
    "slideshow": {
     "slide_type": "slide"
    }
   },
   "source": [
    "### Relative filepath (depends on your working directory)\n",
    "\n",
    "(to this notebook, **assuming i'm in the `/Users/anvy/OneDrive - ITU/teaching/ids/idsp-python/lectures/lecture06` folder**):\n",
    "\n",
    "`../lecture07/lecture07.ipynb`"
   ]
  },
  {
   "cell_type": "markdown",
   "metadata": {
    "slideshow": {
     "slide_type": "slide"
    }
   },
   "source": [
    "### Two equivalent ways of running a python script in a subfolder; Option 1\n",
    "\n",
    "(shown live in class)\n",
    "\n",
    "Absolute path to the file (starting from root): `/Users/anvy/OneDrive - ITU/teaching/ids/idsp-python/lectures/lecture07/myscript.py`; CLI starts from `/Users/anvy/`;\n",
    "\n",
    "<p style=\"text-align:left;\">\n",
    "    <img src=\"images/opt1.png\" alt=\"Option 1\" width=1000px>\n",
    "</p>\n",
    "\n",
    "> Note: For Windows, use `chdir` instead of `pwd`"
   ]
  },
  {
   "cell_type": "markdown",
   "metadata": {
    "slideshow": {
     "slide_type": "slide"
    }
   },
   "source": [
    "### Two equivalent ways of running a python script in a subfolder; Option 2\n",
    "\n",
    "(shown live in class)\n",
    "\n",
    "Absolute path to the file (starting from root): `/Users/anvy/OneDrive - ITU/teaching/ids/idsp-python/lectures/lecture07/myscript.py`; CLI starts from `/Users/anvy/`;\n",
    "\n",
    "<p style=\"text-align:left;\">\n",
    "    <img src=\"images/opt2.png\" alt=\"Option 2\" width=1000px>\n",
    "</p>\n",
    "\n",
    "> Note: For Windows, use `chdir` instead of `pwd`"
   ]
  },
  {
   "cell_type": "markdown",
   "metadata": {
    "slideshow": {
     "slide_type": "slide"
    }
   },
   "source": [
    "## A lifehack for running jupyter notebook\n",
    "\n",
    "Navigate to your IDSP lecture subfolder in the CLI **before** `jupyter notebook` - then the application will start from your IDSP directory!\n",
    "\n",
    "<p style=\"text-align:left;\">\n",
    "    <img src=\"images/reljyp.png\" alt=\"running jupyter notebook from a folder\" width=1000px>\n",
    "</p>"
   ]
  },
  {
   "cell_type": "markdown",
   "metadata": {
    "slideshow": {
     "slide_type": "slide"
    }
   },
   "source": [
    "# Lecture 07 - what we just learned (a lot!!)\n",
    "* List comprehension\n",
    "* The Shell: GUI vs. CLI\n",
    "* CLI commands\n",
    "* creating and running Python scripts (`.py` files)\n",
    "* interactive Python scripts\n",
    "* absolute & relative filepaths"
   ]
  }
 ],
 "metadata": {
  "celltoolbar": "Slideshow",
  "kernelspec": {
   "display_name": "Python 3 (ipykernel)",
   "language": "python",
   "name": "python3"
  },
  "language_info": {
   "codemirror_mode": {
    "name": "ipython",
    "version": 3
   },
   "file_extension": ".py",
   "mimetype": "text/x-python",
   "name": "python",
   "nbconvert_exporter": "python",
   "pygments_lexer": "ipython3",
   "version": "3.9.7"
  }
 },
 "nbformat": 4,
 "nbformat_minor": 2
}
