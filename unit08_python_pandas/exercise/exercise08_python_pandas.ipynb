{
 "cells": [
  {
   "cell_type": "markdown",
   "metadata": {},
   "source": [
    "<div class=\"frontmatter text-center\">\n",
    "<h1>Introduction to Data Science and Programming</h1>\n",
    "<h2>Exercise 8: Python Crash Course - Pandas</h2>\n",
    "<h3>IT University of Copenhagen, Fall 2023</h3>\n",
    "</div>"
   ]
  },
  {
   "cell_type": "markdown",
   "metadata": {},
   "source": [
    "**Very first step: import the modules and packages used in this notebook**"
   ]
  },
  {
   "cell_type": "code",
   "execution_count": null,
   "metadata": {},
   "outputs": [],
   "source": [
    "# import pandas under the alias \"pd\""
   ]
  },
  {
   "cell_type": "markdown",
   "metadata": {},
   "source": [
    "* Task 1: Getting familiar with pandas\n",
    "* Task 2: Read in a csv file without using pandas"
   ]
  },
  {
   "cell_type": "markdown",
   "metadata": {},
   "source": [
    "# Task 1: Getting familiar with pandas\n",
    "\n",
    "Together with this notebook, you are provided the file `oil.csv`, with data provided by [UNdata](http://data.un.org/Explorer.aspx?d=EDATA&f=cmID%3aCR). It contains data on crude oil exports across all countries. For each of the subtasks below, you will find instructions in the code cells. Each of the code cell instructions can be solved by **1-2 lines of code**!\n",
    "\n",
    "* Task 1a: Read in & explore the data\n",
    "* Task 1b: Clean the data\n",
    "* Task 1c: Access parts of the data\n",
    "* Task 1d: Zoom in on a subset & explore the data\n",
    "* Task 1e: Write your manipulated data set to a file"
   ]
  },
  {
   "cell_type": "markdown",
   "metadata": {},
   "source": [
    "## Task 1a: Read in and explore the data"
   ]
  },
  {
   "cell_type": "code",
   "execution_count": null,
   "metadata": {},
   "outputs": [],
   "source": [
    "# read in with pandas"
   ]
  },
  {
   "cell_type": "code",
   "execution_count": null,
   "metadata": {},
   "outputs": [],
   "source": [
    "# display the first 10 rows"
   ]
  },
  {
   "cell_type": "code",
   "execution_count": null,
   "metadata": {},
   "outputs": [],
   "source": [
    "# display the last 8 rows"
   ]
  },
  {
   "cell_type": "code",
   "execution_count": null,
   "metadata": {},
   "outputs": [],
   "source": [
    "# display the names of the columns"
   ]
  },
  {
   "cell_type": "code",
   "execution_count": null,
   "metadata": {},
   "outputs": [],
   "source": [
    "# display the data types in the columns"
   ]
  },
  {
   "cell_type": "code",
   "execution_count": null,
   "metadata": {},
   "outputs": [],
   "source": [
    "# display the row labels (the index)"
   ]
  },
  {
   "cell_type": "code",
   "execution_count": null,
   "metadata": {},
   "outputs": [],
   "source": [
    "# how many rows does the data set have?"
   ]
  },
  {
   "cell_type": "code",
   "execution_count": null,
   "metadata": {},
   "outputs": [],
   "source": [
    "# display the summary statistics for this dataset"
   ]
  },
  {
   "cell_type": "markdown",
   "metadata": {},
   "source": [
    "## Task 1b: Clean the data \n",
    "In this task, we will remove not needed columns, and all rows where we have missing values. Then, we will convert some of the columns into a different data type."
   ]
  },
  {
   "cell_type": "code",
   "execution_count": null,
   "metadata": {},
   "outputs": [],
   "source": [
    "# remove the columns \"Quantity Footnotes\" and \"Unit\""
   ]
  },
  {
   "cell_type": "code",
   "execution_count": null,
   "metadata": {},
   "outputs": [],
   "source": [
    "# remove rows (if any) where \"Country or Area\" is not available using boolean indexing with \".notna()\""
   ]
  },
  {
   "cell_type": "code",
   "execution_count": null,
   "metadata": {},
   "outputs": [],
   "source": [
    "# remove rows (if any) where \"Year\" is missing "
   ]
  },
  {
   "cell_type": "code",
   "execution_count": null,
   "metadata": {},
   "outputs": [],
   "source": [
    "# remove rows (if any) where \"Quantity\" is missing"
   ]
  },
  {
   "cell_type": "code",
   "execution_count": null,
   "metadata": {},
   "outputs": [],
   "source": [
    "# check whether all the rows of \"Commodity - Transaction\" contain the same value, 'Conventional crude oil - exports' "
   ]
  },
  {
   "cell_type": "code",
   "execution_count": null,
   "metadata": {},
   "outputs": [],
   "source": [
    "# how many rows do we have in our data set now?"
   ]
  },
  {
   "cell_type": "code",
   "execution_count": null,
   "metadata": {},
   "outputs": [],
   "source": [
    "# change the datatype of the \"Year\" column to integer"
   ]
  },
  {
   "cell_type": "markdown",
   "metadata": {},
   "source": [
    "## Task 1c: Access parts of the data"
   ]
  },
  {
   "cell_type": "code",
   "execution_count": null,
   "metadata": {},
   "outputs": [],
   "source": [
    "# display only the \"Country or Area\" column"
   ]
  },
  {
   "cell_type": "code",
   "execution_count": null,
   "metadata": {},
   "outputs": [],
   "source": [
    "# display only the data from the first row of the data set"
   ]
  },
  {
   "cell_type": "code",
   "execution_count": null,
   "metadata": {},
   "outputs": [],
   "source": [
    "# display the part of the dataset where \"Country or Area\" is \"Costa Rica\""
   ]
  },
  {
   "cell_type": "code",
   "execution_count": null,
   "metadata": {},
   "outputs": [],
   "source": [
    "# display the part of the data set that contains data for the year 2010"
   ]
  },
  {
   "cell_type": "code",
   "execution_count": null,
   "metadata": {},
   "outputs": [],
   "source": [
    "# display the part of the data set that contains quantities over 200000 \n",
    "# (two hundred thousand) (in thousand metric tons, unit of the \"Quantity\" column); \n",
    "# who are the big exporters?"
   ]
  },
  {
   "cell_type": "code",
   "execution_count": null,
   "metadata": {},
   "outputs": [],
   "source": [
    "# display the row in the data set that shows how much oil \n",
    "# (in thousand metric tons, unit of the \"Quantity\" column)\n",
    "# Denmark exported in 2020 "
   ]
  },
  {
   "cell_type": "code",
   "execution_count": null,
   "metadata": {},
   "outputs": [],
   "source": [
    "# display the part of the data set that shows export quantities over 30 000 \n",
    "# (thirty thousand) for the year 1990\n",
    "# (in thousand metric tons, unit of the \"Quantity\" column)"
   ]
  },
  {
   "cell_type": "code",
   "execution_count": null,
   "metadata": {},
   "outputs": [],
   "source": [
    "# Which countries did not export any oil in 2017?\n",
    "# (display the subset of the dataframe) "
   ]
  },
  {
   "cell_type": "markdown",
   "metadata": {},
   "source": [
    "## Task 1d: Zoom in on a subset & explore the data\n",
    "\n",
    "From now on, we will work with only a **subset** of the data set, looking only at the **most recent year** for which data is available. Make sure that you create a copy of the dataframe that you used until now, using the `.copy()` method, so that our manipulations of the subset data frame will not affect the original data frame."
   ]
  },
  {
   "cell_type": "code",
   "execution_count": null,
   "metadata": {},
   "outputs": [],
   "source": [
    "# copy the part of the data set for the MOST RECENT year into a separate data frame \n",
    "# called oilXXXX (XXXX standing for the most recent year)"
   ]
  },
  {
   "cell_type": "code",
   "execution_count": null,
   "metadata": {},
   "outputs": [],
   "source": [
    "# what is the TOTAL quantity of exported oil? (summed over all countries)\n",
    "# save the value to a variable called total_exports"
   ]
  },
  {
   "cell_type": "code",
   "execution_count": null,
   "metadata": {},
   "outputs": [],
   "source": [
    "# sort the rows by descending value of \"Quantity\" \n",
    "# (i.e. the first row should contain the biggest exporter, etc.)\n",
    "# make sure that you don't just *display* the sorted dataframe, but actually \n",
    "# *change* the dataframe into a sorted-by-quantity one"
   ]
  },
  {
   "cell_type": "code",
   "execution_count": null,
   "metadata": {},
   "outputs": [],
   "source": [
    "# add a new column called \"perc\" to the dataframe; in this column,\n",
    "# compute, for each country, what percentage of total_exports \n",
    "# their exported quantity translates to."
   ]
  },
  {
   "cell_type": "code",
   "execution_count": null,
   "metadata": {},
   "outputs": [],
   "source": [
    "# display the first 10 rows one more time: now you should see what are the biggest 10 exporters in the most recent year?"
   ]
  },
  {
   "cell_type": "code",
   "execution_count": null,
   "metadata": {},
   "outputs": [],
   "source": [
    "# for a country of your choice that is not on the \"top 10\", \n",
    "# find out what is their percentage of total exports?\n",
    "# (just display the row for that country)"
   ]
  },
  {
   "cell_type": "code",
   "execution_count": null,
   "metadata": {},
   "outputs": [],
   "source": [
    "# find out which country exported the most, and which country exported the least;\n",
    "# what is the ratio (proportion) of the biggest vs. smallest export quantity?"
   ]
  },
  {
   "cell_type": "markdown",
   "metadata": {},
   "source": [
    "## Task 1e: Write your manipulated data set to a file\n",
    "\n",
    "Write the data set from the previous file (with data only on the most recent year; and with the added column containig percentages) to a file."
   ]
  },
  {
   "cell_type": "code",
   "execution_count": null,
   "metadata": {},
   "outputs": [],
   "source": [
    "# write to csv with the help of pandas (you don't need to write the row labels (index) to the file)"
   ]
  },
  {
   "cell_type": "code",
   "execution_count": null,
   "metadata": {},
   "outputs": [],
   "source": [
    "# read back into a variable called \"df\" in & display the first 10 rows to check"
   ]
  },
  {
   "cell_type": "markdown",
   "metadata": {},
   "source": [
    "# Task 2: Reading in a csv without pandas (advanced!)\n",
    "\n",
    "Let's try to read in the same data set `oil.csv` without pandas, using only `.reader()` from the built-in `csv` module. \n",
    "\n",
    "* the data set should be read into a dictionary `oil_dict`\n",
    "* the keys of `oil_dict` should correspond to the column names of `oil.csv` (for example, `Year` should be a dictionary key)\n",
    "* the values of `oil_dict` should contain the data from the corresponding column as a list (for example, the value of the key `Year` should contain a list `[2021, 2020, 2019, ....]`)\n",
    "\n",
    "Steps to a **possible** solution: (there are many ways to solve this task!)\n",
    "\n",
    "1. import the built-in module `csv`; \n",
    "2. create a \"context\" in which the csv file is opened (`with open()`... etc)\n",
    "3. within the \"context\", use the `csv.reader()` iterator to read in the file\n",
    "4. iterate over the return value of `csv.reader()` (using a for loop or list comprehension), the output should be a list of lists (where each item is a row in the csv file)\n",
    "5. use the column names to create dictionary keys, & store the data from the corresponding column in the corresponding dictionary value (the built-in function `enumerate()` and list comprehension can help!)\n",
    "6. you may ignore the lines that appear to have less than 6 columns"
   ]
  },
  {
   "cell_type": "code",
   "execution_count": null,
   "metadata": {},
   "outputs": [],
   "source": [
    "# Step 1: import the csv module"
   ]
  },
  {
   "cell_type": "code",
   "execution_count": null,
   "metadata": {},
   "outputs": [],
   "source": [
    "# Step 2: create a context to open the file"
   ]
  },
  {
   "cell_type": "code",
   "execution_count": null,
   "metadata": {},
   "outputs": [],
   "source": [
    "# ..."
   ]
  }
 ],
 "metadata": {
  "kernelspec": {
   "display_name": "Python 3 (ipykernel)",
   "language": "python",
   "name": "python3"
  },
  "language_info": {
   "codemirror_mode": {
    "name": "ipython",
    "version": 3
   },
   "file_extension": ".py",
   "mimetype": "text/x-python",
   "name": "python",
   "nbconvert_exporter": "python",
   "pygments_lexer": "ipython3",
   "version": "3.9.7"
  }
 },
 "nbformat": 4,
 "nbformat_minor": 2
}
