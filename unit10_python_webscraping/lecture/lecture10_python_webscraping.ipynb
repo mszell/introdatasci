{
 "cells": [
  {
   "cell_type": "markdown",
   "metadata": {},
   "source": [
    "<div class=\"frontmatter text-center\">\n",
    "<h1>Introduction to Data Science and Programming</h1>\n",
    "<h2>Lecture 10: Python Crash Course - Web scraping</h2>\n",
    "<h3>IT University of Copenhagen, Fall 2023</h3>\n",
    "<h3>Instructor: Anastassia Vybornova</h3>\n",
    "</div>"
   ]
  },
  {
   "cell_type": "markdown",
   "metadata": {
    "slideshow": {
     "slide_type": "slide"
    }
   },
   "source": [
    "Today you will learn:\n",
    "\n",
    "* What is HTML?\n",
    "* `requests` library for sending HTTP requests\n",
    "* `beautifulsoup4` for parsing HTTP responses"
   ]
  },
  {
   "cell_type": "markdown",
   "metadata": {
    "slideshow": {
     "slide_type": "slide"
    }
   },
   "source": [
    "# HTML: HyperText Markup Language\n",
    "\n",
    "* standard language for creating & structuring website content\n",
    "* not a programming, but a **markup** language - describes the layout and formatting of a document (just like [markdown](https://www.markdownguide.org)!)\n",
    "\n",
    "Basic idea:\n",
    "- HTML consists of elements\n",
    "- each element is denoted by start and end tags in <> brackets\n",
    "- start tags can contain attributes "
   ]
  },
  {
   "cell_type": "markdown",
   "metadata": {
    "slideshow": {
     "slide_type": "slide"
    }
   },
   "source": [
    "```html\n",
    "<title>MyHomepage</title>\n",
    "```\n",
    "\n",
    "* the tag is \"title\"\n",
    "* the start tag is `<title>`\n",
    "* the end tag is `</title>`\n",
    "* everything between the start and end tag (\"MyHomepage\") is the text content of that tag"
   ]
  },
  {
   "cell_type": "markdown",
   "metadata": {
    "slideshow": {
     "slide_type": "slide"
    }
   },
   "source": [
    "```html\n",
    "<a href=\"https://itu.dk\">MyUniversity</a>\n",
    "```\n",
    "\n",
    "* the tag is \"a\" (anchor tag: for hyperlinks)\n",
    "* the start tag is `<a href=\"...\">` with the **attribute** `href`\n",
    "* the end tag is `</a>`\n",
    "* everything between the start and end tag (\"MyLink\") is the text content of that tag"
   ]
  },
  {
   "cell_type": "markdown",
   "metadata": {
    "slideshow": {
     "slide_type": "slide"
    }
   },
   "source": [
    "> shown in sublime text editor: how to create an html document"
   ]
  },
  {
   "cell_type": "markdown",
   "metadata": {
    "slideshow": {
     "slide_type": "slide"
    }
   },
   "source": [
    "# Try it out yourself: My first HTML file\n",
    "\n",
    "* Copy-paste the HTML-formatted text below into an empty text document\n",
    "* Fill the gaps \"INSERT...\" with the text of your choice\n",
    "* Save the file with an `.html` extension\n",
    "* Open the file - it should automatically open in a browser; does it look like you expected?\n",
    "\n",
    "```html\n",
    "<title>INSERT TITLE HERE</title>\n",
    "<h1>INSERT HEADER 1 HERE</h1>\n",
    "<p>INSERT A PARAGRAPH OF TEXT HERE</p> \n",
    "<h2>INSERT HEADER 2 HERE</h2>\n",
    "<p>INSERT ANOTHER PARAGRAPH OF TEXT HERE</p>\n",
    "<a href=\"INSERT A LINK HERE\">INSERT SOME TEXT HERE</a>\n",
    "```"
   ]
  },
  {
   "cell_type": "markdown",
   "metadata": {
    "slideshow": {
     "slide_type": "slide"
    }
   },
   "source": [
    "# Source code of websites\n",
    "\n",
    "Now that we have an intuition of how HTML works, let's look at the HTML \"source code\" of some websites!\n",
    "\n",
    "Shortcut/way to do it depends on the browser you're using.\n",
    "\n",
    "For most browsers (Firefox, Microsoft Edge, Safari, Google Chrome): \n",
    "\n",
    "1. Open website\n",
    "2. Right click with mouse\n",
    "3. Click `view page source` (or similar)\n",
    "\n",
    "> shown in Safari: source code of [Michael's homepage](http://michael.szell.net)"
   ]
  },
  {
   "cell_type": "markdown",
   "metadata": {
    "slideshow": {
     "slide_type": "slide"
    }
   },
   "source": [
    "# Try it out yourself\n",
    "\n",
    "* Go to [booking.com](http://booking.com) & open the source code of the website\n",
    "* Can you find the link for \"Unpacked: Travel articles\" (in the very bottom of the page) **in the source code**?\n",
    "\n",
    "<p style=\"text-align:left;\">\n",
    "    <img src=\"booking.png\" alt=\"booking.com\" width=90%px>\n",
    "</p>"
   ]
  },
  {
   "cell_type": "markdown",
   "metadata": {
    "slideshow": {
     "slide_type": "slide"
    }
   },
   "source": [
    "# HTTP: HyperText transfer protocol\n",
    "\n",
    "Protocol used to access data on the Web. Main (SIMPLIFIED) idea:\n",
    "* **Client** sends **HTTP request** to the server\n",
    "* **Server** replies with an **HTTP response**\n",
    "\n",
    "We can do this in a web browser... but we can also do it with Python!\n",
    "\n",
    "> shown: clientrequest - serverresponse in browser"
   ]
  },
  {
   "cell_type": "markdown",
   "metadata": {
    "slideshow": {
     "slide_type": "slide"
    }
   },
   "source": [
    "# `requests` library\n",
    "\n",
    "(\"library\" ~ \"collection of packages\". but these terms are often used interchangeably.)\n",
    "\n",
    "Python package to send HTTP requests and receive HTTP responses\n",
    "\n",
    "We will see 2 examples:\n",
    "* a [website](https://raw.githubusercontent.com/anastassiavybornova/pythoncrashcourse/main/exercises/exercise10/quote.txt) containing only text (no HTML formatting)\n",
    "* a [website](http://michael.szell.net/) containing HTML\n",
    "\n",
    "> websites shown\n"
   ]
  },
  {
   "cell_type": "markdown",
   "metadata": {
    "slideshow": {
     "slide_type": "slide"
    }
   },
   "source": [
    "**Sending an HTTP request with Python, example 1 (pure text)**"
   ]
  },
  {
   "cell_type": "code",
   "execution_count": null,
   "metadata": {
    "slideshow": {
     "slide_type": "slide"
    }
   },
   "outputs": [],
   "source": [
    "# first, import the library\n",
    "import requests"
   ]
  },
  {
   "cell_type": "code",
   "execution_count": null,
   "metadata": {
    "slideshow": {
     "slide_type": "slide"
    }
   },
   "outputs": [],
   "source": [
    "# the function .get(url) sends a request; \n",
    "# and returns a response\n",
    "my_url = \"https://raw.githubusercontent.com/anastassiavybornova/pythoncrashcourse/main/exercises/exercise10/quote.txt\"\n",
    "requests.get(my_url)"
   ]
  },
  {
   "cell_type": "code",
   "execution_count": null,
   "metadata": {
    "slideshow": {
     "slide_type": "slide"
    }
   },
   "outputs": [],
   "source": [
    "# save response to a variable to explore it\n",
    "my_response = requests.get(my_url)"
   ]
  },
  {
   "cell_type": "code",
   "execution_count": null,
   "metadata": {
    "slideshow": {
     "slide_type": "slide"
    }
   },
   "outputs": [],
   "source": [
    "# my_response is of type Response\n",
    "type(my_response)"
   ]
  },
  {
   "cell_type": "code",
   "execution_count": null,
   "metadata": {
    "slideshow": {
     "slide_type": "slide"
    }
   },
   "outputs": [],
   "source": [
    "# ... and has several attributes, for example:\n",
    "print(\".encoding attribute:\", my_response.encoding)\n",
    "print(\".url attribute:\", my_response.url)\n",
    "print(\".text attribute:\", my_response.text)"
   ]
  },
  {
   "cell_type": "code",
   "execution_count": null,
   "metadata": {
    "slideshow": {
     "slide_type": "slide"
    }
   },
   "outputs": [],
   "source": [
    "# save the text attribute of the response to a variable:\n",
    "my_text = my_response.text\n",
    "print(type(my_text))\n",
    "print(my_text)"
   ]
  },
  {
   "cell_type": "markdown",
   "metadata": {
    "slideshow": {
     "slide_type": "slide"
    }
   },
   "source": [
    "**Sending an HTTP request with Python, example 2 (HTML content)**"
   ]
  },
  {
   "cell_type": "code",
   "execution_count": null,
   "metadata": {
    "slideshow": {
     "slide_type": "slide"
    }
   },
   "outputs": [],
   "source": [
    "# the function get(url) sends a request; \n",
    "# and returns a response\n",
    "my_url = \"http://michael.szell.net/\"\n",
    "requests.get(my_url)"
   ]
  },
  {
   "cell_type": "code",
   "execution_count": null,
   "metadata": {
    "slideshow": {
     "slide_type": "slide"
    }
   },
   "outputs": [],
   "source": [
    "# save response to a variable to explore it\n",
    "my_response = requests.get(my_url)"
   ]
  },
  {
   "cell_type": "code",
   "execution_count": null,
   "metadata": {
    "slideshow": {
     "slide_type": "slide"
    }
   },
   "outputs": [],
   "source": [
    "# my_response is of type Response\n",
    "type(my_response)"
   ]
  },
  {
   "cell_type": "code",
   "execution_count": null,
   "metadata": {
    "slideshow": {
     "slide_type": "slide"
    }
   },
   "outputs": [],
   "source": [
    "# ... and has several attributes, for example:\n",
    "print(\".encoding attribute:\", my_response.encoding)\n",
    "print(\".url attribute:\", my_response.url)"
   ]
  },
  {
   "cell_type": "code",
   "execution_count": null,
   "metadata": {
    "slideshow": {
     "slide_type": "slide"
    }
   },
   "outputs": [],
   "source": [
    "# ... but most importantly, the .content attribute contains the \n",
    "my_response.content"
   ]
  },
  {
   "cell_type": "markdown",
   "metadata": {
    "slideshow": {
     "slide_type": "slide"
    }
   },
   "source": [
    "# Try it out yourself\n",
    "\n",
    "1. Use `requests.get()` and `.text` to save the text from link 1 below to a variable, `my_text`.\n",
    "2. Use `requests.get()` and `.content` to save the content from link 2 below to a variable, `my_content`.\n",
    "\n",
    "Link 1: https://raw.githubusercontent.com/anastassiavybornova/pythoncrashcourse/main/exercises/exercise10/quote2.txt\n",
    "\n",
    "Link 2: https://www.youtube.com/watch?v=JBdxhFzTQ4s"
   ]
  },
  {
   "cell_type": "code",
   "execution_count": null,
   "metadata": {
    "slideshow": {
     "slide_type": "slide"
    }
   },
   "outputs": [],
   "source": [
    "# save text from link1 into a variable, my_text\n",
    "my_response = requests.get(\"https://raw.githubusercontent.com/anastassiavybornova/pythoncrashcourse/main/exercises/exercise10/quote2.txt\")\n",
    "my_text = my_response.text\n",
    "print(my_text)"
   ]
  },
  {
   "cell_type": "code",
   "execution_count": null,
   "metadata": {
    "slideshow": {
     "slide_type": "slide"
    }
   },
   "outputs": [],
   "source": [
    "# save content from link2 into a variable, my_content\n",
    "my_response = requests.get(\"https://www.youtube.com/watch?v=JBdxhFzTQ4s\")\n",
    "my_text = my_response.text\n",
    "my_text"
   ]
  },
  {
   "cell_type": "markdown",
   "metadata": {
    "slideshow": {
     "slide_type": "slide"
    }
   },
   "source": [
    "# Is there a Python package to help me read HTML?\n",
    "\n",
    "Yes there is - `beautifulsoup4`!\n",
    "\n",
    "We will use beautifulsoup4 to \"parse\" (read) the content of our HTTP response, and to extract information from the HTTP response."
   ]
  },
  {
   "cell_type": "code",
   "execution_count": null,
   "metadata": {
    "slideshow": {
     "slide_type": "slide"
    }
   },
   "outputs": [],
   "source": [
    "# import beautifulsoup4\n",
    "import bs4"
   ]
  },
  {
   "cell_type": "code",
   "execution_count": null,
   "metadata": {
    "slideshow": {
     "slide_type": "slide"
    }
   },
   "outputs": [],
   "source": [
    "# the BeautifulSoup function creates a \"soup\" object from an HTTP response content:\n",
    "my_response = requests.get(\"http://michael.szell.net/\")\n",
    "my_content = my_response.content\n",
    "my_soup = bs4.BeautifulSoup(my_content)"
   ]
  },
  {
   "cell_type": "code",
   "execution_count": null,
   "metadata": {
    "slideshow": {
     "slide_type": "slide"
    }
   },
   "outputs": [],
   "source": [
    "# what is this \"my_soup\" object?\n",
    "print(type(my_soup))\n",
    "print(my_soup)"
   ]
  },
  {
   "cell_type": "markdown",
   "metadata": {
    "slideshow": {
     "slide_type": "slide"
    }
   },
   "source": [
    "**Methods for the \"BeautifulSoup\" object**\n",
    "* `.find(tag)` returns the FIRST specified tag\n",
    "* `.find_all(tag)` returns ALL specified tags"
   ]
  },
  {
   "cell_type": "code",
   "execution_count": null,
   "metadata": {
    "slideshow": {
     "slide_type": "slide"
    }
   },
   "outputs": [],
   "source": [
    "# this will find the FIRST tag \"a\" (i.e. the first link)\n",
    "my_soup.find(\"meta\")"
   ]
  },
  {
   "cell_type": "code",
   "execution_count": null,
   "metadata": {
    "slideshow": {
     "slide_type": "slide"
    }
   },
   "outputs": [],
   "source": [
    "# this will find ALL tags \"a\" (i.e. all links)\n",
    "my_soup.find_all(\"a\")"
   ]
  },
  {
   "cell_type": "code",
   "execution_count": null,
   "metadata": {
    "slideshow": {
     "slide_type": "slide"
    }
   },
   "outputs": [],
   "source": [
    "# .find(tag) returns a TAG object:\n",
    "link_found = my_soup.find(\"a\")\n",
    "print(link_found)\n",
    "print(type(link_found))"
   ]
  },
  {
   "cell_type": "markdown",
   "metadata": {
    "slideshow": {
     "slide_type": "slide"
    }
   },
   "source": [
    "**Methods for the \"Tag\" object**\n",
    "* `.get(attribute)` returns the specified attribute of the tag"
   ]
  },
  {
   "cell_type": "code",
   "execution_count": null,
   "metadata": {
    "slideshow": {
     "slide_type": "slide"
    }
   },
   "outputs": [],
   "source": [
    "# to access the attribute \"href\",\n",
    "# which contains the actual URL,\n",
    "# use the method .get(attribute):\n",
    "print(link_found)\n",
    "link_found.get(\"href\")"
   ]
  },
  {
   "cell_type": "code",
   "execution_count": null,
   "metadata": {
    "slideshow": {
     "slide_type": "slide"
    }
   },
   "outputs": [],
   "source": [
    "# this gives us the URL as a string:\n",
    "my_hyperlink = link_found.get(\"href\")\n",
    "print(my_hyperlink)\n",
    "print(type(my_hyperlink))"
   ]
  },
  {
   "cell_type": "markdown",
   "metadata": {
    "slideshow": {
     "slide_type": "slide"
    }
   },
   "source": [
    "# Summing up: How do you find the first link on a website with Python?\n",
    "\n",
    "1. `requests.get()` to send an HTTP request; \n",
    "2. `bs4.BeautifulSoup()` to parse the `.content` attribute of the HTTP response\n",
    "3. `find(\"a\")` to find the first `<a>` tag (on BeautifulSoup object)\n",
    "4. `.get(\"href\")` to get the url (on Tag object)"
   ]
  },
  {
   "cell_type": "code",
   "execution_count": null,
   "metadata": {
    "slideshow": {
     "slide_type": "slide"
    }
   },
   "outputs": [],
   "source": [
    "my_url = \"https://www.wikipedia.org\"\n",
    "my_response = requests.get(my_url)\n",
    "my_soup = bs4.BeautifulSoup(my_response.content)\n",
    "my_tag = my_soup.find(\"a\")\n",
    "my_hyperlink = my_tag.get(\"href\")\n",
    "print(my_hyperlink)"
   ]
  },
  {
   "cell_type": "markdown",
   "metadata": {
    "slideshow": {
     "slide_type": "slide"
    }
   },
   "source": [
    "# Summing up: How do you find all links on a website with Python?\n",
    "\n",
    "1. `requests.get()` to send an HTTP request; \n",
    "2. `bs4.BeautifulSoup()` to parse the `.content` attribute of the HTTP response\n",
    "3. `.find_all(\"a\")` to find all  `<a>` tags\n",
    "4. `.get(\"href\")` (on each tag that **has** an href attribute) to get the url"
   ]
  },
  {
   "cell_type": "code",
   "execution_count": null,
   "metadata": {
    "slideshow": {
     "slide_type": "slide"
    }
   },
   "outputs": [],
   "source": [
    "my_url = \"https://itu.dk\"\n",
    "my_response = requests.get(my_url)\n",
    "my_soup = bs4.BeautifulSoup(my_response.content)\n",
    "my_tags = my_soup.find_all(\"a\")\n",
    "print(len(my_tags))\n",
    "my_tags"
   ]
  },
  {
   "cell_type": "code",
   "execution_count": null,
   "metadata": {
    "slideshow": {
     "slide_type": "slide"
    }
   },
   "outputs": [],
   "source": [
    "# we have 282 tags! but some of them don't have an href, let's get rid of them:\n",
    "my_tags_href = [tag for tag in my_tags if tag.get(\"href\")]\n",
    "len(my_tags_href)\n",
    "my_tags_href"
   ]
  },
  {
   "cell_type": "code",
   "execution_count": null,
   "metadata": {
    "slideshow": {
     "slide_type": "slide"
    }
   },
   "outputs": [],
   "source": [
    "# let's now get all the hyperlinks\n",
    "my_hrefs = [tag.get(\"href\") for tag in my_tags_href]\n",
    "my_hrefs"
   ]
  },
  {
   "cell_type": "code",
   "execution_count": null,
   "metadata": {
    "slideshow": {
     "slide_type": "slide"
    }
   },
   "outputs": [],
   "source": [
    "# let's know only keep the links to *external* websites\n",
    "my_hrefs_external = [href for href in my_hrefs if \"http\" in href]\n",
    "print(len(my_hrefs_external))\n",
    "my_hrefs_external"
   ]
  },
  {
   "cell_type": "markdown",
   "metadata": {
    "slideshow": {
     "slide_type": "slide"
    }
   },
   "source": [
    "# What is \"webscraping\"?\n",
    "\n",
    "Download & process data from the internet, in an automated fashion.\n",
    "\n",
    "We just learned how to do this in Python, using 2 packages:\n",
    "* `requests` to **download** website content in HTML\n",
    "* `beautifulsoup4` to **read and process** HTML"
   ]
  }
 ],
 "metadata": {
  "kernelspec": {
   "display_name": "Python 3 (ipykernel)",
   "language": "python",
   "name": "python3"
  },
  "language_info": {
   "codemirror_mode": {
    "name": "ipython",
    "version": 3
   },
   "file_extension": ".py",
   "mimetype": "text/x-python",
   "name": "python",
   "nbconvert_exporter": "python",
   "pygments_lexer": "ipython3",
   "version": "3.9.7"
  }
 },
 "nbformat": 4,
 "nbformat_minor": 2
}
