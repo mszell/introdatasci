{
 "cells": [
  {
   "cell_type": "markdown",
   "metadata": {
    "slideshow": {
     "slide_type": "slide"
    }
   },
   "source": [
    "<div class=\"frontmatter text-center\">\n",
    "<h1>Introduction to Data Science and Programming</h1>\n",
    "<h2>Lecture 5: Python Crash Course - Dictionaries</h2>\n",
    "<h3>IT University of Copenhagen, Fall 2023</h3>\n",
    "<h3>Instructor: Anastassia Vybornova</h3>\n",
    "</div>"
   ]
  },
  {
   "cell_type": "markdown",
   "metadata": {
    "slideshow": {
     "slide_type": "slide"
    }
   },
   "source": [
    "# Recap of last time + additional info\n",
    "\n",
    "* loops: `for` and `while` (+ their scope!) \n",
    "* data types: `tuple, set, range`\n",
    "* `methods` (for tuples, sets, and lists)"
   ]
  },
  {
   "cell_type": "markdown",
   "metadata": {
    "slideshow": {
     "slide_type": "slide"
    }
   },
   "source": [
    "## `for` loop syntax in Python\n",
    "\n",
    "With a `for` loop, we can iterate over an iterable object, \n",
    "\n",
    "and execute some code (the body of the for-loop) repeatedly (once for each item in the iterable object). \n",
    "\n",
    "**iterable objects (sequences):** `list`; `range`; `str`; `set`; `tuple`\n",
    "\n",
    "```python\n",
    "for variable in iterable_object:\n",
    "    statement\n",
    "# in this for loop, the statement will be executed len(iterable_object) number of times.\n",
    "\n",
    "for variable in iterable_object:\n",
    "    statement\n",
    "    if condition:\n",
    "        break\n",
    "# this for loop will be executed maximum len(iterable_object) number of times;\n",
    "# but if the condition becomes True, the for loop execution will stop earlier\n",
    "```\n"
   ]
  },
  {
   "cell_type": "code",
   "execution_count": null,
   "metadata": {
    "slideshow": {
     "slide_type": "slide"
    }
   },
   "outputs": [],
   "source": [
    "for item in [1, 2, 3, 4, 5]:\n",
    "    print(item)"
   ]
  },
  {
   "cell_type": "code",
   "execution_count": null,
   "metadata": {
    "slideshow": {
     "slide_type": "slide"
    }
   },
   "outputs": [],
   "source": [
    "for item in [1, 2, 3, 4, 5]:\n",
    "    print(item)\n",
    "    if item > 2:\n",
    "        break\n"
   ]
  },
  {
   "cell_type": "code",
   "execution_count": null,
   "metadata": {
    "slideshow": {
     "slide_type": "slide"
    }
   },
   "outputs": [],
   "source": [
    "# the order matters! if we first \"break\", then the code \n",
    "# *after* the break statement will not be executed:\n",
    "for item in [1, 2, 3, 4, 5]:\n",
    "    if item > 2:\n",
    "        break\n",
    "    print(item)"
   ]
  },
  {
   "cell_type": "markdown",
   "metadata": {
    "slideshow": {
     "slide_type": "slide"
    }
   },
   "source": [
    "## for-loops \"leak\":\n",
    "\n",
    "The current value of the loop variable will \"leak\" (become available) once the for-loop ends. "
   ]
  },
  {
   "cell_type": "code",
   "execution_count": null,
   "metadata": {
    "slideshow": {
     "slide_type": "slide"
    }
   },
   "outputs": [],
   "source": [
    "for loop_var in [\"a\", \"b\", \"c\", \"d\"]:\n",
    "    print(\"in for-loop:\", loop_var) \n",
    "\n",
    "# the last value of loop_var has \"LEAKED\":\n",
    "print(\"after for-loop:\", loop_var)"
   ]
  },
  {
   "cell_type": "code",
   "execution_count": null,
   "metadata": {
    "slideshow": {
     "slide_type": "slide"
    }
   },
   "outputs": [],
   "source": [
    "# THE LOOP VARIABLE \"LEAKS\"\n",
    "# ... even if it was defined with a different value before!\n",
    "x = \"efghij\"\n",
    "print(\"before for-loop:\", x)\n",
    "\n",
    "for x in [\"a\", \"b\", \"c\", \"d\"]:\n",
    "    print(\"in for-loop:\", x) # just a fancy way of saying \"do nothing\"\n",
    "    # loop_var takes on the values \"a\", \"b\", \"c\", \"d\" at each iteration step\n",
    "\n",
    "# the last value of loop_var has \"LEAKED\"_\n",
    "print(\"after for-loop:\", x)"
   ]
  },
  {
   "cell_type": "markdown",
   "metadata": {
    "slideshow": {
     "slide_type": "slide"
    }
   },
   "source": [
    "## `while` loop syntax in Python\n",
    "\n",
    "With a `while` loop, we execute some code (the body of the while-loop) conditionally and repeatedly - until the condition of the while loop becomes False; or until we break out of the while loop.\n",
    "```python\n",
    "while condition:\n",
    "    statement # (which modifies the condition!)\n",
    "# this while loop will check the condition; \n",
    "# if it is True, it will execute the statement UNTIL the condition becomes False.\n",
    "\n",
    "while condition1:\n",
    "    statement \n",
    "    if condition2:\n",
    "        break # make sure to \"break out\" at some point!\n",
    "```"
   ]
  },
  {
   "cell_type": "code",
   "execution_count": null,
   "metadata": {
    "slideshow": {
     "slide_type": "slide"
    }
   },
   "outputs": [],
   "source": [
    "i = 0\n",
    "while i < 5:\n",
    "    i = i + 1\n",
    "print(i) # this line will be executed AFTER the while loop is over"
   ]
  },
  {
   "cell_type": "code",
   "execution_count": null,
   "metadata": {
    "slideshow": {
     "slide_type": "slide"
    }
   },
   "outputs": [],
   "source": [
    "i = 0\n",
    "while True: # will run forever,\n",
    "    i = i + 1\n",
    "    if i == 5: # UNLESS i becomes EXACTLY 5\n",
    "        break\n",
    "print(i) # this line will be executed AFTER the while loop is over"
   ]
  },
  {
   "cell_type": "markdown",
   "metadata": {
    "slideshow": {
     "slide_type": "slide"
    }
   },
   "source": [
    "## Data types you know so far\n",
    "\n",
    "* numeric: `int`, `float`\n",
    "* text: `str`\n",
    "* boolean: `bool`\n",
    "* sequences: `list`, `range`, `tuple` (order matters!)\n",
    "* sets: `set` (unordered collection of unique items!)"
   ]
  },
  {
   "cell_type": "markdown",
   "metadata": {
    "slideshow": {
     "slide_type": "slide"
    }
   },
   "source": [
    "## Data types you learned last time \n",
    "\n",
    "`range()`, `tuple` and `set`\n",
    "\n",
    "```python\n",
    "### RANGE\n",
    "range(x) # defines a \"range\" of length x; goes from 0 to x-1\n",
    "\n",
    "### TUPLE\n",
    "tuple(1, 1, 0, 0) # defines the INMUTABLE ordered sequence of items (1, 1, 0, 0)\n",
    "\n",
    "### SET\n",
    "{1, 1, 0, 0} # defines the set {0,1} of UNIQUE items\n",
    "```"
   ]
  },
  {
   "cell_type": "markdown",
   "metadata": {
    "slideshow": {
     "slide_type": "slide"
    }
   },
   "source": [
    "# Methods in Python\n",
    "\n",
    "A method is a function that you can **call on an object**, using the notation\n",
    "\n",
    "# `object.method()`\n",
    "\n",
    "We learned *some* methods for:\n",
    "* lists: `.index()`, `.sort()`, `count()`, `remove()`...\n",
    "* tuples: `.index()`, `.count()`\n",
    "* sets: `.add(), .remove(), .pop()`"
   ]
  },
  {
   "cell_type": "markdown",
   "metadata": {},
   "source": [
    "<hr>"
   ]
  },
  {
   "cell_type": "markdown",
   "metadata": {
    "slideshow": {
     "slide_type": "slide"
    }
   },
   "source": [
    "Today we will learn:\n",
    "\n",
    "* update on operators (modulo `%` and assignment `+=, -=, *=, /=`)\n",
    "* update on data types: the None object (absence of everything)\n",
    "* update on functions (parameters, arguments)\n",
    "* a new data type: dictionaries `dict`"
   ]
  },
  {
   "cell_type": "markdown",
   "metadata": {
    "slideshow": {
     "slide_type": "slide"
    }
   },
   "source": [
    "# Update on your operators skill set!\n",
    "\n",
    "### Arithmetic operators in Python:\n",
    "* Addition `+`, \n",
    "* subtraction  `-`, \n",
    "* multiplication `*`, \n",
    "* division `/`, \n",
    "* exponentiation `**`, \n",
    "* integer division `//`\n",
    "* **Modulus** `%`\n",
    "\n",
    "> For the purposes of this crash course, it is enough for you to know how to use modulus `x % y` to check whether `x` is divisible by `y`. If you're curious about what else modulo can do for you (and it can do a lot!), [click here](https://realpython.com/python-modulo-operator/)"
   ]
  },
  {
   "cell_type": "code",
   "execution_count": null,
   "metadata": {
    "slideshow": {
     "slide_type": "slide"
    }
   },
   "outputs": [],
   "source": [
    "# it gives us the *remainder* of a division\n",
    "33 % 10"
   ]
  },
  {
   "cell_type": "code",
   "execution_count": null,
   "metadata": {
    "slideshow": {
     "slide_type": "slide"
    }
   },
   "outputs": [],
   "source": [
    "# for even numbers, the *remainder* of a division by 2 is 0 (by definition)\n",
    "16 % 2"
   ]
  },
  {
   "cell_type": "code",
   "execution_count": null,
   "metadata": {
    "slideshow": {
     "slide_type": "slide"
    },
    "tags": []
   },
   "outputs": [],
   "source": [
    "# for odd numbers, the *remainder* of a division by 2 is NOT 0 (by definition)\n",
    "17 % 2"
   ]
  },
  {
   "cell_type": "code",
   "execution_count": null,
   "metadata": {
    "slideshow": {
     "slide_type": "slide"
    }
   },
   "outputs": [],
   "source": [
    "# for even numbers, the *remainder* of a division by 2 is 0 (by definition)\n",
    "16 % 2 == 0 # making sure that modulo 0 ... number is even"
   ]
  },
  {
   "cell_type": "code",
   "execution_count": null,
   "metadata": {
    "slideshow": {
     "slide_type": "slide"
    },
    "tags": []
   },
   "outputs": [],
   "source": [
    "# for odd numbers, the *remainder* of a division by 2 is NOT 0 (by definition)\n",
    "17 % 2 != 0 # making sure that modulo 1 ... number is odd"
   ]
  },
  {
   "cell_type": "code",
   "execution_count": null,
   "metadata": {
    "slideshow": {
     "slide_type": "slide"
    }
   },
   "outputs": [],
   "source": [
    "# and more generally speaking, we can test whether x is divisible by y\n",
    "# (if it is divisible, x % y will be 0)\n",
    "49 % 7"
   ]
  },
  {
   "cell_type": "code",
   "execution_count": null,
   "metadata": {
    "slideshow": {
     "slide_type": "slide"
    }
   },
   "outputs": [],
   "source": [
    "# and more generally speaking, we can test whether x is divisible by y\n",
    "# (if it is divisible, x & y will be 0)\n",
    "x = 49\n",
    "y = 7\n",
    "x % y == 0 # the equivalent of saying: x is divisible by y"
   ]
  },
  {
   "cell_type": "markdown",
   "metadata": {
    "slideshow": {
     "slide_type": "slide"
    }
   },
   "source": [
    "# Update on your operators skill set!\n",
    "\n",
    "### Assignment operators in Python:\n",
    "* `=` assign value of expression (right) to variable (left)\n",
    "* `+=, -=, *=, /=` **add and assign; subtract and assign; multiply and assign; divide and assign**"
   ]
  },
  {
   "cell_type": "code",
   "execution_count": null,
   "metadata": {
    "slideshow": {
     "slide_type": "slide"
    }
   },
   "outputs": [],
   "source": [
    "# What if I want to add 1 to a variable, but keep the variable name?\n",
    "i = 4\n",
    "i = i + 1 # we can make this shorter and more elegant:\n",
    "i"
   ]
  },
  {
   "cell_type": "code",
   "execution_count": null,
   "metadata": {
    "slideshow": {
     "slide_type": "slide"
    }
   },
   "outputs": [],
   "source": [
    "i = 4\n",
    "i += 1 # equivalent to: i = i + 1 ; can read as: \"add 1 and assign\"\n",
    "i"
   ]
  },
  {
   "cell_type": "code",
   "execution_count": null,
   "metadata": {
    "slideshow": {
     "slide_type": "slide"
    }
   },
   "outputs": [],
   "source": [
    "# same logic for all other mathematical operators:\n",
    "a = 9\n",
    "a = a - 2 # we can use -= instead!\n",
    "a"
   ]
  },
  {
   "cell_type": "code",
   "execution_count": null,
   "metadata": {
    "slideshow": {
     "slide_type": "slide"
    }
   },
   "outputs": [],
   "source": [
    "# same logic for all other mathematical operators:\n",
    "a = 9\n",
    "a -= 2\n",
    "a"
   ]
  },
  {
   "cell_type": "code",
   "execution_count": null,
   "metadata": {
    "slideshow": {
     "slide_type": "slide"
    }
   },
   "outputs": [],
   "source": [
    "# same logic for all other mathematical operators:\n",
    "b = 15\n",
    "b *= 2\n",
    "b"
   ]
  },
  {
   "cell_type": "code",
   "execution_count": null,
   "metadata": {
    "slideshow": {
     "slide_type": "slide"
    }
   },
   "outputs": [],
   "source": [
    "# same logic for all other mathematical operators:\n",
    "b = 15\n",
    "b /= 3\n",
    "b\n",
    "# note how the variable type changed to float!"
   ]
  },
  {
   "cell_type": "code",
   "execution_count": null,
   "metadata": {
    "slideshow": {
     "slide_type": "slide"
    }
   },
   "outputs": [],
   "source": [
    "# this also works for lists\n",
    "my_list = [3,6,9]\n",
    "my_list += [8,4,7]\n",
    "my_list"
   ]
  },
  {
   "cell_type": "code",
   "execution_count": null,
   "metadata": {
    "slideshow": {
     "slide_type": "slide"
    }
   },
   "outputs": [],
   "source": [
    "# ... and for strings\n",
    "my_word = \"tusind \"\n",
    "my_word += \"tak\"\n",
    "my_word"
   ]
  },
  {
   "cell_type": "markdown",
   "metadata": {
    "slideshow": {
     "slide_type": "slide"
    }
   },
   "source": [
    "# Update on data types: `None` \n",
    "\n",
    "To define the absence of everything"
   ]
  },
  {
   "cell_type": "code",
   "execution_count": null,
   "metadata": {
    "slideshow": {
     "slide_type": "slide"
    }
   },
   "outputs": [],
   "source": [
    "# the None object, with a capital N:\n",
    "x = None\n",
    "print(x)\n",
    "print(type(x))"
   ]
  },
  {
   "cell_type": "code",
   "execution_count": null,
   "metadata": {
    "slideshow": {
     "slide_type": "slide"
    }
   },
   "outputs": [],
   "source": [
    "# ONLY NONE CAN BE NONE! \n",
    "# None is not the same as empty\n",
    "x = None\n",
    "empty_string = \"\"\n",
    "empty_list = []\n",
    "empty_tuple = ()\n",
    "print(x == empty_string)\n",
    "print(x == empty_list)\n",
    "print(x == empty_tuple)"
   ]
  },
  {
   "cell_type": "code",
   "execution_count": null,
   "metadata": {
    "slideshow": {
     "slide_type": "slide"
    }
   },
   "outputs": [],
   "source": [
    "# Only None is None!\n",
    "print(None == True)\n",
    "print(None == False)\n",
    "print(None == None)"
   ]
  },
  {
   "cell_type": "markdown",
   "metadata": {
    "slideshow": {
     "slide_type": "slide"
    }
   },
   "source": [
    "## Update on functions\n",
    "* returning `None` (if no return statement!)\n",
    "* returning multiple values\n",
    "* **parameter** temporary variable declared in the function definition\n",
    "* **argument** values passed into the function call\n",
    "* using several parameters\n",
    "* required and optional parameters (that have a default)\n",
    "* mixing required and optional parameters in a function call\n",
    "* assigning arguments explicitly (by parameter name)"
   ]
  },
  {
   "cell_type": "code",
   "execution_count": null,
   "metadata": {
    "slideshow": {
     "slide_type": "slide"
    }
   },
   "outputs": [],
   "source": [
    "# if there is no return statement,\n",
    "# the function returns None:\n",
    "def function_without_return():\n",
    "    1 + 2\n",
    "\n",
    "function_without_return()"
   ]
  },
  {
   "cell_type": "code",
   "execution_count": null,
   "metadata": {
    "slideshow": {
     "slide_type": "slide"
    }
   },
   "outputs": [],
   "source": [
    "# if there is no return statement,\n",
    "# the function returns None:\n",
    "def function_without_return():\n",
    "    1 + 1\n",
    "\n",
    "print(function_without_return())"
   ]
  },
  {
   "cell_type": "code",
   "execution_count": null,
   "metadata": {
    "slideshow": {
     "slide_type": "slide"
    }
   },
   "outputs": [],
   "source": [
    "# if there is no return statement,\n",
    "# the function returns None:\n",
    "def function_without_return():\n",
    "    1 + 1\n",
    "\n",
    "result = function_without_return()\n",
    "print(result)"
   ]
  },
  {
   "cell_type": "code",
   "execution_count": null,
   "metadata": {
    "slideshow": {
     "slide_type": "slide"
    }
   },
   "outputs": [],
   "source": [
    "# some functions that we already learned \n",
    "# (and some methods!) return None!\n",
    "result = print(\"hello world!\")\n",
    "print(result)"
   ]
  },
  {
   "cell_type": "code",
   "execution_count": null,
   "metadata": {
    "slideshow": {
     "slide_type": "slide"
    }
   },
   "outputs": [],
   "source": [
    "# some functions that we already learned \n",
    "# (and some methods!) return None!\n",
    "mylist = [1, 2, 3]\n",
    "result = mylist.append(4)\n",
    "print(result) # the .append() method has no return value\n",
    "print(mylist) # but the appending worked!"
   ]
  },
  {
   "cell_type": "code",
   "execution_count": null,
   "metadata": {
    "slideshow": {
     "slide_type": "slide"
    }
   },
   "outputs": [],
   "source": [
    "mylist = [1, 2, 3]\n",
    "mylist = mylist.append(4) # THIS IS WRONG!!\n",
    "print(mylist) # we overwrote \"mylist\" with the return of the .append() method, which is None"
   ]
  },
  {
   "cell_type": "code",
   "execution_count": null,
   "metadata": {
    "slideshow": {
     "slide_type": "slide"
    }
   },
   "outputs": [],
   "source": [
    "# functions can return multiple values\n",
    "# just write them all after your \"return\" keyword, separated by commas:\n",
    "def square_and_cube(x):\n",
    "    return x ** 2, x ** 3 \n",
    "\n",
    "result = square_and_cube(2)\n",
    "print(result) # the result is a TUPLE!\n",
    "print(type(result))"
   ]
  },
  {
   "cell_type": "code",
   "execution_count": null,
   "metadata": {
    "slideshow": {
     "slide_type": "slide"
    }
   },
   "outputs": [],
   "source": [
    "# functions can return multiple values\n",
    "# just write them all after your \"return\" keyword, separated by commas:\n",
    "def square_and_cube(x):\n",
    "    return x ** 2, x ** 3 \n",
    "\n",
    "# we can save each item within the returned tuple into a separate variable:\n",
    "a, b = square_and_cube(2)  \n",
    "print(a)\n",
    "print(b)"
   ]
  },
  {
   "cell_type": "code",
   "execution_count": null,
   "metadata": {
    "slideshow": {
     "slide_type": "slide"
    }
   },
   "outputs": [],
   "source": [
    "# functions can return multiple values\n",
    "# just write them all after your \"return\" keyword, separated by commas:\n",
    "def square_and_cube(x):\n",
    "    return x ** 2, x ** 3 \n",
    "\n",
    "# if we don't need one of the returned variables, use underscore:\n",
    "_, b = square_and_cube(2)  # let's say i don't care about square, i just want cube\n",
    "print(_)"
   ]
  },
  {
   "cell_type": "code",
   "execution_count": null,
   "metadata": {
    "slideshow": {
     "slide_type": "slide"
    }
   },
   "outputs": [],
   "source": [
    "# HOW NOT TO DO IT:\n",
    "def square_and_cube(x):\n",
    "    return x ** 2, \n",
    "    return x ** 3 \n",
    "# this is WRONG!! function is exited as soon as return statement is executed\n",
    "# THE 2ND RETURN STATEMENT NEVER GETS EXECUTED \n",
    "\n",
    "# the function call still works... but this is not what we wanted\n",
    "square_and_cube(2)\n",
    "\n"
   ]
  },
  {
   "cell_type": "code",
   "execution_count": null,
   "metadata": {
    "slideshow": {
     "slide_type": "slide"
    }
   },
   "outputs": [],
   "source": [
    "# function definition\n",
    "def add_5(x): \n",
    "    x = x + 5\n",
    "    return x\n",
    "\n",
    "# function call\n",
    "add_5(4) "
   ]
  },
  {
   "cell_type": "code",
   "execution_count": null,
   "metadata": {
    "slideshow": {
     "slide_type": "slide"
    }
   },
   "outputs": [],
   "source": [
    "# function definition\n",
    "def add_5(x): # x ...is the PARAMETER (arbitrarily named)\n",
    "    x = x + 5\n",
    "    return x\n",
    "\n",
    "# function call\n",
    "add_5(4) # 4 ... is the ARGUMENT (value passed to function)"
   ]
  },
  {
   "cell_type": "code",
   "execution_count": null,
   "metadata": {
    "slideshow": {
     "slide_type": "slide"
    }
   },
   "outputs": [],
   "source": [
    "# a function can have several PARAMETERS\n",
    "def add_numbers(x, y, z):\n",
    "    my_sum = x + y + z\n",
    "    return my_sum\n",
    "# parameters in function def: x, y, z\n",
    "\n",
    "# function call\n",
    "add_numbers(1, 2, 3)\n",
    "# arguments in function call: 1, 2, 3"
   ]
  },
  {
   "cell_type": "markdown",
   "metadata": {
    "slideshow": {
     "slide_type": "slide"
    }
   },
   "source": [
    "# Q: How does Python know which argument corresponds to which parameter?"
   ]
  },
  {
   "cell_type": "code",
   "execution_count": null,
   "metadata": {
    "slideshow": {
     "slide_type": "slide"
    }
   },
   "outputs": [],
   "source": [
    "# a function can have several parameters\n",
    "def add_numbers(x, y, z):\n",
    "    my_sum = x + y + z\n",
    "    return my_sum\n",
    "# parameters in function def: x, y, z\n",
    "\n",
    "# in this function call\n",
    "add_numbers(1, 2, 3)\n",
    "# python knows BY POSITION: \n",
    "# first argument (1) is x \n",
    "# second argument (2) is y\n",
    "# third argument (3) is z"
   ]
  },
  {
   "cell_type": "code",
   "execution_count": null,
   "metadata": {
    "slideshow": {
     "slide_type": "slide"
    }
   },
   "outputs": [],
   "source": [
    "# a function can have several parameters\n",
    "def add_numbers(x, y, z):\n",
    "    my_sum = x + y + z\n",
    "    return my_sum\n",
    "\n",
    "# function call\n",
    "# we can explicitly \"assign the arguments by parameter name\"\n",
    "add_numbers(x = 1, y = 2, z = 3)"
   ]
  },
  {
   "cell_type": "code",
   "execution_count": null,
   "metadata": {
    "slideshow": {
     "slide_type": "slide"
    }
   },
   "outputs": [],
   "source": [
    "# why is it useful to assign arguments by NAME?\n",
    "# because ORDER MATTERS!\n",
    "def compute_power(x, y):\n",
    "    return x**y\n",
    "\n",
    "print(compute_power(5,2)) # positional arguments >> computes 5 * 5\n",
    "print(compute_power(2,5)) # positional argument >> computes 2 * 2 * 2 * 2 *2"
   ]
  },
  {
   "cell_type": "code",
   "execution_count": null,
   "metadata": {
    "slideshow": {
     "slide_type": "slide"
    }
   },
   "outputs": [],
   "source": [
    "# why is it useful to assign arguments by NAME?\n",
    "# because ORDER MATTERS!\n",
    "def compute_power(x, y):\n",
    "    return x**y\n",
    "\n",
    "# to be sure that we use the parameters in the way we intended,\n",
    "# assign by name! if we want to compute 5 to the power of 2,\n",
    "# compute_power(x = 5, y = 2) # named arguments >> computes 5 ** 2\n",
    "compute_power(y = 2, x = 5) # named arguments >> ALSO computes 5 ** 2"
   ]
  },
  {
   "cell_type": "code",
   "execution_count": null,
   "metadata": {
    "slideshow": {
     "slide_type": "slide"
    }
   },
   "outputs": [],
   "source": [
    "# we can have \"default values\" for \"optional parameters\":\n",
    "def compute_power(x, y = 2):\n",
    "    return x ** y\n",
    "\n",
    "# what happens if we don't provide an argument for the second parameter?\n",
    "compute_power(5)\n",
    "\n",
    "# what happens if we DO provide an argument for the second parameter?\n",
    "# compute_power(3, 5)"
   ]
  },
  {
   "cell_type": "code",
   "execution_count": null,
   "metadata": {
    "slideshow": {
     "slide_type": "slide"
    }
   },
   "outputs": [],
   "source": [
    "# we can have \"default values\" for \"optional parameters\":\n",
    "def compute_power(x, y = 2):\n",
    "    # x is required (must be provided)\n",
    "    # y is optional (if not provided, gets the default value)\n",
    "    return x ** y\n",
    "\n",
    "# compute_power(3) # if we DO NOT specify y, it will return x ** 2\n",
    "# compute_power(3,3) # if we DO specify y, it will return x ** y\n",
    "compute_power(y=3) # if we DO NOT specify x, it will complain"
   ]
  },
  {
   "cell_type": "code",
   "execution_count": null,
   "metadata": {
    "slideshow": {
     "slide_type": "slide"
    }
   },
   "outputs": [],
   "source": [
    "# RULE FOR FUNCTION DEFINITIONS:\n",
    "# required parameters must ALWAYS COME FIRST\n",
    "# and default parameters come last.\n",
    "# this will throw an error message:\n",
    "def compute_power(x = 10, y):\n",
    "    return x ** y"
   ]
  },
  {
   "cell_type": "code",
   "execution_count": null,
   "metadata": {
    "slideshow": {
     "slide_type": "slide"
    }
   },
   "outputs": [],
   "source": [
    "# SIMILAR RULE FOR FUNCTION CALLS:\n",
    "def compute_power(x, y = 2): \n",
    "    return x ** y\n",
    "\n",
    "### POSSIBLE OPTIONS\n",
    "# compute_power(3, 3) # this works (all arguments are positional)\n",
    "# compute_power(x = 3, y = 3) # this works (all arguments are named)\n",
    "# compute_power(y = 3, x = 3) # this works (all arguments are named, so position doesn't matter)\n",
    "# compute_power(3, y = 3) # this works! (first positional, then named) \n",
    "\n",
    "### IMPOSSIBLE OPTIONS\n",
    "# compute_power(x = 3, 3) # THIS DOESN'T WORK! (first named, then positional is a NO)\n",
    "# compute_power(y = 3, 3) # THIS DOESN'T WORK! (first named, then positional is a NO)\n"
   ]
  },
  {
   "cell_type": "markdown",
   "metadata": {
    "slideshow": {
     "slide_type": "slide"
    }
   },
   "source": [
    "# Try it out yourself!\n",
    "\n",
    "1. Define a function `compute_fraction` that takes 3 input parameters `a, b, c` and computes $\\frac{a+b}{c}$. Try it out for different values of `a, b, c`. Run the cell with the `assert` statements to see if you defined the function correctly.\n",
    "\n",
    "2. Define a function `compute_sum_or_fraction` that takes 3 input parameters and computes $\\frac{a+b}{c}$; where a and b are **required parameters** and **c is an optional parameter with the default value `1`**. Try it out for different values `a, b, c`; try it out with providing only the parameters `a, b`. Run the cell with the `assert` statements to see if you defined the function correctly."
   ]
  },
  {
   "cell_type": "markdown",
   "metadata": {
    "slideshow": {
     "slide_type": "slide"
    }
   },
   "source": [
    "**`compute_fraction`**"
   ]
  },
  {
   "cell_type": "code",
   "execution_count": null,
   "metadata": {
    "slideshow": {
     "slide_type": "slide"
    }
   },
   "outputs": [],
   "source": [
    "# define your function\n",
    "def compute_fraction():\n",
    "    # YOUR CODE HERE\n",
    "    raise NotImplementedError()\n"
   ]
  },
  {
   "cell_type": "code",
   "execution_count": null,
   "metadata": {
    "slideshow": {
     "slide_type": "slide"
    }
   },
   "outputs": [],
   "source": [
    "# test it out for different values of a, b, c"
   ]
  },
  {
   "cell_type": "code",
   "execution_count": null,
   "metadata": {
    "slideshow": {
     "slide_type": "slide"
    }
   },
   "outputs": [],
   "source": [
    "# test your function\n",
    "assert compute_fraction(1,2,3)==1\n",
    "assert compute_fraction(2,2,2)==2\n",
    "assert compute_fraction(10,60,7)==10"
   ]
  },
  {
   "cell_type": "markdown",
   "metadata": {
    "slideshow": {
     "slide_type": "slide"
    }
   },
   "source": [
    "**`compute_sum_or_fraction`**"
   ]
  },
  {
   "cell_type": "code",
   "execution_count": null,
   "metadata": {
    "slideshow": {
     "slide_type": "slide"
    }
   },
   "outputs": [],
   "source": [
    "# define your function\n",
    "def compute_sum_or_fraction():\n",
    "    # YOUR CODE HERE\n",
    "    raise NotImplementedError()"
   ]
  },
  {
   "cell_type": "code",
   "execution_count": null,
   "metadata": {
    "slideshow": {
     "slide_type": "slide"
    }
   },
   "outputs": [],
   "source": [
    "# try out your functions for different values a,b,c \n",
    "# and for different values a,b"
   ]
  },
  {
   "cell_type": "code",
   "execution_count": null,
   "metadata": {
    "slideshow": {
     "slide_type": "slide"
    }
   },
   "outputs": [],
   "source": [
    "# test your function\n",
    "assert compute_sum_or_fraction(1,2,3)==1\n",
    "assert compute_sum_or_fraction(60,10,7)==10\n",
    "\n",
    "assert compute_sum_or_fraction(1,2)==3\n",
    "assert compute_sum_or_fraction(10,5)==15\n"
   ]
  },
  {
   "cell_type": "markdown",
   "metadata": {
    "slideshow": {
     "slide_type": "slide"
    }
   },
   "source": [
    "# Break until 11:20"
   ]
  },
  {
   "cell_type": "markdown",
   "metadata": {
    "slideshow": {
     "slide_type": "slide"
    }
   },
   "source": [
    "## Update on functions - recap\n",
    "* returning multiple values: `return value1, value2`\n",
    "* **\"parameter\"** = temporary variable declared in the function definition `def function_name(parameter_name): ...`\n",
    "* **\"argument\"** = value passed into the function call `function_name(argument_value)`\n",
    "* functions can take several parameters `def function_name(param1, param2, param3, ...)`\n",
    "* required and optional parameters (that have a default) \n",
    "    * required: `def function_name(req_param)`\n",
    "    * optional: `def function_name(opt_param=default_value)`\n",
    "* mixing required and optional parameters in a function call - **watch out for the right order**\n",
    "* assigning arguments explicitly (by parameter name)"
   ]
  },
  {
   "cell_type": "markdown",
   "metadata": {
    "slideshow": {
     "slide_type": "slide"
    }
   },
   "source": [
    "# The data type dictionary `dict`\n",
    "\n",
    "\"A collection of key-value pairs, with unique keys\""
   ]
  },
  {
   "cell_type": "code",
   "execution_count": null,
   "metadata": {
    "slideshow": {
     "slide_type": "slide"
    }
   },
   "outputs": [],
   "source": [
    "# how can we store PAIRS of data?\n",
    "countries = [\"ethiopia\", \"indonesia\", \"peru\", \"czech republic\"]\n",
    "capitals = [\"addis ababa\", \"jakarta\", \"lima\", \"prague\"]\n",
    "\n",
    "# pairs of country-capital have the same index:\n",
    "print(countries[2])\n",
    "print(capitals[2])\n",
    "print(\"the capital of\", countries[2],\"is\", capitals[2])\n"
   ]
  },
  {
   "cell_type": "code",
   "execution_count": null,
   "metadata": {
    "slideshow": {
     "slide_type": "slide"
    }
   },
   "outputs": [],
   "source": [
    "# how can we store PAIRS of data?\n",
    "countries = [\"ethiopia\", \"indonesia\", \"peru\", \"czech republic\"]\n",
    "capitals = [\"addis ababa\", \"jakarta\", \"lima\", \"prague\"]\n",
    "\n",
    "i = 0 # the items that belong together have the same listindex\n",
    "\n",
    "print(\n",
    "    \"the capital of\", \n",
    "    countries[i], \n",
    "    \"is\", \n",
    "    capitals[i]\n",
    "    )\n"
   ]
  },
  {
   "cell_type": "code",
   "execution_count": null,
   "metadata": {
    "slideshow": {
     "slide_type": "slide"
    },
    "tags": []
   },
   "outputs": [],
   "source": [
    "# \"there MUST be a better way to do this!\"\n",
    "# enter the data type DICTIONARY: \n",
    "# denoted by curly brackets. \n",
    "# each ITEM of the dictionary is a key:value pair.\n",
    "my_dict = {\n",
    "    \"ethiopia\": \"addis ababa\", # key is \"ethiopia\", the corresponding value is \"addis ababa\"\n",
    "    \"indonesia\": \"jakarta\",\n",
    "    \"peru\": \"lima\",\n",
    "    \"czech republic\": \"prague\"\n",
    "} \n",
    "my_dict"
   ]
  },
  {
   "cell_type": "code",
   "execution_count": null,
   "metadata": {
    "slideshow": {
     "slide_type": "slide"
    },
    "tags": []
   },
   "outputs": [],
   "source": [
    "# check the new data type:\n",
    "type(my_dict)"
   ]
  },
  {
   "cell_type": "code",
   "execution_count": null,
   "metadata": {
    "slideshow": {
     "slide_type": "slide"
    },
    "tags": []
   },
   "outputs": [],
   "source": [
    "# inside the dict, the items are structured by key:value;\n",
    "# now we can LOOK UP a VALUE by its KEY:\n",
    "my_dict[\"ethiopia\"] "
   ]
  },
  {
   "cell_type": "code",
   "execution_count": null,
   "metadata": {
    "slideshow": {
     "slide_type": "slide"
    },
    "tags": []
   },
   "outputs": [],
   "source": [
    "# inside the dict, the items are structured by key:value;\n",
    "# now we can LOOK UP a VALUE by its KEY:\n",
    "my_dict[\"peru\"] "
   ]
  },
  {
   "cell_type": "code",
   "execution_count": null,
   "metadata": {
    "slideshow": {
     "slide_type": "slide"
    },
    "tags": []
   },
   "outputs": [],
   "source": [
    "# we can access the keys by the DICT METHOD .keys():\n",
    "my_dict.keys()"
   ]
  },
  {
   "cell_type": "code",
   "execution_count": null,
   "metadata": {
    "slideshow": {
     "slide_type": "slide"
    },
    "tags": []
   },
   "outputs": [],
   "source": [
    "# we can access the values by the DICT METHOD .values():\n",
    "my_dict.values()"
   ]
  },
  {
   "cell_type": "code",
   "execution_count": null,
   "metadata": {
    "slideshow": {
     "slide_type": "slide"
    },
    "tags": []
   },
   "outputs": [],
   "source": [
    "# we can access the ITEMS (key-value pairs) by the DICT METHOD .items():\n",
    "my_dict.items()"
   ]
  },
  {
   "cell_type": "code",
   "execution_count": null,
   "metadata": {
    "slideshow": {
     "slide_type": "slide"
    }
   },
   "outputs": [],
   "source": [
    "# we can iterate over the keys of a dictionary:\n",
    "for x in my_dict.keys():\n",
    "    print(x)"
   ]
  },
  {
   "cell_type": "code",
   "execution_count": null,
   "metadata": {
    "slideshow": {
     "slide_type": "slide"
    }
   },
   "outputs": [],
   "source": [
    "# we can iterate over the values of a dictionary:\n",
    "for v in my_dict.values():\n",
    "    print(v)"
   ]
  },
  {
   "cell_type": "code",
   "execution_count": null,
   "metadata": {
    "slideshow": {
     "slide_type": "slide"
    }
   },
   "outputs": [],
   "source": [
    "# we can iterate over the keys of a dictionary:\n",
    "for key in my_dict.keys():\n",
    "    print(\"the dict key is:\", key, \"; the dict value is:\", my_dict[key]) "
   ]
  },
  {
   "cell_type": "code",
   "execution_count": null,
   "metadata": {
    "slideshow": {
     "slide_type": "slide"
    },
    "tags": []
   },
   "outputs": [],
   "source": [
    "# we can iterate over the ITEMS (keys AND values) of a dictionary.\n",
    "# the ITEMS come in pairs of 2 (key, value), so we need 2 for loop variables:\n",
    "for key, value in my_dict.items():\n",
    "    print(key)\n",
    "    print(value)"
   ]
  },
  {
   "cell_type": "code",
   "execution_count": null,
   "metadata": {
    "slideshow": {
     "slide_type": "slide"
    },
    "tags": []
   },
   "outputs": [],
   "source": [
    "# we can iterate over the ITEMS (keys AND values) of a dictionary:\n",
    "for key, value in my_dict.items():\n",
    "    print(\"the capital of \" + key + \" is \" + value)"
   ]
  },
  {
   "cell_type": "code",
   "execution_count": null,
   "metadata": {
    "slideshow": {
     "slide_type": "slide"
    }
   },
   "outputs": [],
   "source": [
    "# COMPARE THIS TO OUR INITIAL ATTEMPT TO STORE THE DATA IN 2 LISTS:\n",
    "\n",
    "my_dict = {\"ethiopia\": \"addis ababa\", \"indonesia\": \"jakarta\", \"peru\": \"lima\", \"czech republic\": \"prague\"} \n",
    "for key, value in my_dict.items():\n",
    "    print(\"the capital of \" + key + \" is \" + value)\n",
    "\n",
    "### VERSUS:\n",
    "\n",
    "countries = [\"ethiopia\", \"indonesia\", \"peru\", \"czech republic\"]\n",
    "capitals = [\"addis ababa\", \"jakarta\", \"lima\", \"prague\"]\n",
    "\n",
    "for i in range(len(countries)):     \n",
    "    print(\"the capital of \" + countries[i] + \" is \" + capitals[i])"
   ]
  },
  {
   "cell_type": "code",
   "execution_count": null,
   "metadata": {
    "slideshow": {
     "slide_type": "slide"
    },
    "tags": []
   },
   "outputs": [],
   "source": [
    "# Values can be of any type!\n",
    "# bank movements per weekday\n",
    "bank_movements = {\n",
    "    \"monday\" : [15000, -750, -100],\n",
    "    \"tuesday\" : 250,\n",
    "    \"wednesday\" : [-200, 300]\n",
    "}\n",
    "# bank_movements\n",
    "#bank_movements[\"monday\"]\n",
    "bank_movements[\"tuesday\"]"
   ]
  },
  {
   "cell_type": "code",
   "execution_count": null,
   "metadata": {
    "slideshow": {
     "slide_type": "slide"
    },
    "tags": []
   },
   "outputs": [],
   "source": [
    "# if we try to use a non-existing key,\n",
    "# we get an error:\n",
    "bank_movements[\"thursday\"]"
   ]
  },
  {
   "cell_type": "code",
   "execution_count": null,
   "metadata": {
    "slideshow": {
     "slide_type": "slide"
    },
    "tags": []
   },
   "outputs": [],
   "source": [
    "# To add an entry to the dictionary: \n",
    "# just assign a value to the new key like so:\n",
    "bank_movements[\"thursday\"] = \"on thursday, nothing happened\"\n",
    "bank_movements"
   ]
  },
  {
   "cell_type": "code",
   "execution_count": null,
   "metadata": {
    "slideshow": {
     "slide_type": "slide"
    }
   },
   "outputs": [],
   "source": [
    "# To update a key-value pair:\n",
    "bank_movements[\"tuesday\"] = [125, 125] # here we are reassigning a new value to this key\n",
    "bank_movements"
   ]
  },
  {
   "cell_type": "code",
   "execution_count": null,
   "metadata": {
    "slideshow": {
     "slide_type": "slide"
    }
   },
   "outputs": [],
   "source": [
    "# To update a key-value pair:\n",
    "bank_movements[\"monday\"] += [30] # here we are updating the list stored as value\n",
    "bank_movements"
   ]
  },
  {
   "cell_type": "code",
   "execution_count": null,
   "metadata": {
    "slideshow": {
     "slide_type": "slide"
    }
   },
   "outputs": [],
   "source": [
    "# To update a key-value pair:\n",
    "bank_movements[\"wednesday\"].remove(300)\n",
    "bank_movements"
   ]
  },
  {
   "cell_type": "code",
   "execution_count": null,
   "metadata": {
    "slideshow": {
     "slide_type": "slide"
    }
   },
   "outputs": [],
   "source": [
    "# To DELETE an entry from the dictionary:\n",
    "# del(bank_movements[\"thursday\"])\n",
    "#bank_movements"
   ]
  },
  {
   "cell_type": "code",
   "execution_count": null,
   "metadata": {
    "slideshow": {
     "slide_type": "slide"
    },
    "tags": []
   },
   "outputs": [],
   "source": [
    "# To test if a key is in the dictionary:\n",
    "\"monday\" in bank_movements\n",
    "# this is short for:\n",
    "\"monday\" in bank_movements.keys()\n",
    "# print(bank_movements)"
   ]
  },
  {
   "cell_type": "code",
   "execution_count": null,
   "metadata": {
    "slideshow": {
     "slide_type": "slide"
    }
   },
   "outputs": [],
   "source": [
    "# To test if a value is in the dictionary:\n",
    "[-200] in bank_movements.values()"
   ]
  },
  {
   "cell_type": "code",
   "execution_count": null,
   "metadata": {
    "slideshow": {
     "slide_type": "slide"
    },
    "tags": []
   },
   "outputs": [],
   "source": [
    "# Defining an empty dictionary, option 1:\n",
    "d = {} \n",
    "type(d)"
   ]
  },
  {
   "cell_type": "code",
   "execution_count": null,
   "metadata": {
    "slideshow": {
     "slide_type": "slide"
    },
    "tags": []
   },
   "outputs": [],
   "source": [
    "# Defining an empty dictionary, option 2:\n",
    "d = dict()\n",
    "type(d)"
   ]
  },
  {
   "cell_type": "code",
   "execution_count": null,
   "metadata": {
    "slideshow": {
     "slide_type": "slide"
    },
    "tags": []
   },
   "outputs": [],
   "source": [
    "# We can also use the dict() function to create a dictionary:\n",
    "# dict(name1=value1, name2=value2, ...)\n",
    "\n",
    "# note that in this case, the keys (name1, name 2, ...) \n",
    "# have to follow the NAMING RULES FOR VARIABLES!\n",
    "\n",
    "my_dict = dict(\n",
    "    ethiopia = \"addis ababa\", # key is \"ethiopia\", the corresponding value is \"addis ababa\"\n",
    "    indonesia = \"jakarta\",\n",
    "    peru = \"lima\",\n",
    "    czech_republic = \"prague\" \n",
    ") \n",
    "my_dict"
   ]
  },
  {
   "cell_type": "markdown",
   "metadata": {
    "slideshow": {
     "slide_type": "slide"
    }
   },
   "source": [
    "# Try it out yourself\n",
    "\n",
    "Create a dictionary `menu` with days of the week as keys, and your dinner menu for that day as value. Then:\n",
    "* print out all keys of the `menu`\n",
    "* print out all values of `menu`\n",
    "* print out what you will eat on Friday\n",
    "* change your dinner on Saturday to `\"dining out!\"` \n",
    "* delete the key-value pair for Sunday from the dictionary"
   ]
  },
  {
   "cell_type": "code",
   "execution_count": null,
   "metadata": {
    "slideshow": {
     "slide_type": "slide"
    }
   },
   "outputs": [],
   "source": [
    "menu = {\n",
    "    # your menu here: \n",
    "    # \"monday\": \"...\", etc.\n",
    "}"
   ]
  },
  {
   "cell_type": "markdown",
   "metadata": {
    "slideshow": {
     "slide_type": "slide"
    }
   },
   "source": [
    "# Dictionaries in Python\n",
    "\n",
    "* dictionaries are **collections of key-value pairs** with **unique keys**\n",
    "* store pairs of data in a **structured** way, by entries of the form `key:value` \n",
    "* finding a key/value in a dictionary is **much more efficient** than finding an item in a list\n",
    "* denoted by curly brackets `{}` or `dict()`\n",
    "    * {key1:value1, key2:value2, ...}\n",
    "    * dict(name1=value1, name2=value2, ...)\n",
    "* rules for dictionary **keys**:\n",
    "    * *should* be of type `int`, `str` or ` tuple` (more details later)\n",
    "    * have to be unique (the same way a word can't appear twice in a dictionary)\n",
    "* rules for dictionary **values** \n",
    "    * can be of any type \n",
    "    * do not need to be unique (the same way two words (synonyms) can have the same meaning)"
   ]
  },
  {
   "cell_type": "markdown",
   "metadata": {
    "slideshow": {
     "slide_type": "slide"
    }
   },
   "source": [
    "# Dictionaries in Python\n",
    "\n",
    "* use a key to \"look up\" its value: `mydict[mykey]` returns the value that corresponds to `mykey`\n",
    "* to add or update a key:value pair: `mydict[mykey]=myvalue`\n",
    "* to delete a key:value pair: `del(mydict[mykey])`\n",
    "* to check whether a key is in the dictionary: `mykey in mydict` (short for: `mykey in mydict.keys()`)\n",
    "* to check whether a value is in the dictionary: `myvalue in mydict.values()`"
   ]
  },
  {
   "cell_type": "markdown",
   "metadata": {
    "slideshow": {
     "slide_type": "slide"
    }
   },
   "source": [
    "# Reminder: how to create...\n",
    "\n",
    "<style type=\"text/css\">\n",
    ".tg  {border-collapse:collapse;border-spacing:0;}\n",
    ".tg td{border-color:black;border-style:solid;border-width:1px;font-family:Arial, sans-serif;font-size:14px;\n",
    "  overflow:hidden;padding:10px 5px;word-break:normal;}\n",
    ".tg th{border-color:black;border-style:solid;border-width:1px;font-family:Arial, sans-serif;font-size:14px;\n",
    "  font-weight:normal;overflow:hidden;padding:10px 5px;word-break:normal;}\n",
    ".tg .tg-0lax{text-align:left;vertical-align:top}\n",
    "</style>\n",
    "<table class=\"tg\">\n",
    "<thead>\n",
    "  <tr>\n",
    "    <th class=\"tg-0lax\">AN EMPTY ....</th>\n",
    "    <th class=\"tg-0lax\">with brackets</th>\n",
    "    <th class=\"tg-0lax\">with function()</th>\n",
    "  </tr>\n",
    "</thead>\n",
    "<tbody>\n",
    "  <tr>\n",
    "    <td class=\"tg-0lax\">list</td>\n",
    "    <td class=\"tg-0lax\">[]</td>\n",
    "    <td class=\"tg-0lax\">list()</td>\n",
    "  </tr>\n",
    "  <tr>\n",
    "    <td class=\"tg-0lax\">tuple</td>\n",
    "    <td class=\"tg-0lax\">()</td>\n",
    "    <td class=\"tg-0lax\">tuple()</td>\n",
    "  </tr>\n",
    "  <tr>\n",
    "    <td class=\"tg-0lax\">set</td>\n",
    "    <td class=\"tg-0lax\"></td>\n",
    "    <td class=\"tg-0lax\">set()</td>\n",
    "  </tr>\n",
    "  <tr>\n",
    "    <td class=\"tg-0lax\">dict</td>\n",
    "    <td class=\"tg-0lax\">{}</td>\n",
    "    <td class=\"tg-0lax\">dict()</td>\n",
    "  </tr>\n",
    "</tbody>\n",
    "</table>"
   ]
  },
  {
   "cell_type": "markdown",
   "metadata": {
    "slideshow": {
     "slide_type": "slide"
    }
   },
   "source": [
    "# Reminder: how to create...\n",
    "\n",
    "<style type=\"text/css\">\n",
    ".tg  {border-collapse:collapse;border-spacing:0;}\n",
    ".tg td{border-color:black;border-style:solid;border-width:1px;font-family:Arial, sans-serif;font-size:14px;\n",
    "  overflow:hidden;padding:10px 5px;word-break:normal;}\n",
    ".tg th{border-color:black;border-style:solid;border-width:1px;font-family:Arial, sans-serif;font-size:14px;\n",
    "  font-weight:normal;overflow:hidden;padding:10px 5px;word-break:normal;}\n",
    ".tg .tg-0lax{text-align:left;vertical-align:top}\n",
    "</style>\n",
    "<table class=\"tg\">\n",
    "<thead>\n",
    "  <tr>\n",
    "    <th class=\"tg-0lax\">WITH ITEMS</th>\n",
    "    <th class=\"tg-0lax\">with brackets</th>\n",
    "    <th class=\"tg-0lax\">with function()</th>\n",
    "  </tr>\n",
    "</thead>\n",
    "<tbody>\n",
    "  <tr>\n",
    "    <td class=\"tg-0lax\">list</td>\n",
    "    <td class=\"tg-0lax\">[1, 2, 3]</td>\n",
    "    <td class=\"tg-0lax\">list((1,2,3))</td>\n",
    "  </tr>\n",
    "  <tr>\n",
    "    <td class=\"tg-0lax\">tuple</td>\n",
    "    <td class=\"tg-0lax\">(1, 2, 3)</td>\n",
    "    <td class=\"tg-0lax\">tuple([1,2,3])</td>\n",
    "  </tr>\n",
    "  <tr>\n",
    "    <td class=\"tg-0lax\">set</td>\n",
    "    <td class=\"tg-0lax\">{1, 2, 3}</td>\n",
    "    <td class=\"tg-0lax\">set([1,2,3])</td>\n",
    "  </tr>\n",
    "  <tr>\n",
    "    <td class=\"tg-0lax\">dict</td>\n",
    "    <td class=\"tg-0lax\">{key1: value1, <br>key2: value2, <br>key3: value3}</td>\n",
    "    <td class=\"tg-0lax\">dict(key1 = value1, <br>key2 = value2, <br>key3 = value3)</td>\n",
    "  </tr>\n",
    "</tbody>\n",
    "</table>\n",
    "\n",
    "**Note** that `list(), tuple(), set()` take only ONE argument!"
   ]
  },
  {
   "cell_type": "code",
   "execution_count": null,
   "metadata": {
    "slideshow": {
     "slide_type": "slide"
    },
    "tags": []
   },
   "outputs": [],
   "source": [
    "# list(), tuple(), set(), dict() take only ONE argument!\n",
    "# e.g. to create a tuple with the items 1, 2, 3:\n",
    "\n",
    "# mytuple = tuple(1,2,3) # WRONG\n",
    "# mytuple = tuple( [1,2,3] ) # RIGHT\n",
    "mytuple = (1,2,3) # ALSO RIGHT\n",
    "mytuple"
   ]
  }
 ],
 "metadata": {
  "celltoolbar": "Slideshow",
  "kernelspec": {
   "display_name": "Python 3 (ipykernel)",
   "language": "python",
   "name": "python3"
  },
  "language_info": {
   "codemirror_mode": {
    "name": "ipython",
    "version": 3
   },
   "file_extension": ".py",
   "mimetype": "text/x-python",
   "name": "python",
   "nbconvert_exporter": "python",
   "pygments_lexer": "ipython3",
   "version": "3.9.7"
  }
 },
 "nbformat": 4,
 "nbformat_minor": 4
}
