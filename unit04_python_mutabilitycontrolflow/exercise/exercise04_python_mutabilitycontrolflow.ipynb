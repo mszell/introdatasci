{
 "cells": [
  {
   "cell_type": "markdown",
   "metadata": {},
   "source": [
    "<div class=\"frontmatter text-center\">\n",
    "<h1> Introduction to Data Science and Programming</h1>\n",
    "<h2>Exercise 4: Python Crash Course - Mutability and control flow</h2>\n",
    "<h3>IT University of Copenhagen, Fall 2023</h3>\n",
    "</div>"
   ]
  },
  {
   "cell_type": "markdown",
   "metadata": {},
   "source": [
    "* Task 1: At the supermarket (list methods)\n",
    "* Task 2: At the ice cream shop (list/set/tuple methods)\n",
    "* Tasks 3 & 4: `for` loops\n",
    "* Tasks 5 & 6: `while` loops"
   ]
  },
  {
   "cell_type": "markdown",
   "metadata": {},
   "source": [
    "***\n",
    "## Task 1: At the supermarket\n",
    "\n",
    "\n",
    "```python\n",
    "shopping_list = [\"onions\", \"milk\", \"bread\", \"butter\", \"rice\", \"vinger\", \"oil\", \"pineapple\", \"onions\", \"salt\", \"chicken\", \"parsley\", \"mint\", \"sugar\", \"onions\"]\n",
    "```\n",
    "\n",
    "Above, we have defined a shopping list, and a snack list. Use list methods and the  operator to:\n",
    "* add `\"oranges\"` to the shopping list\n",
    "* add the `snacks` list to the shopping list (use `+` or `+=`, **not** `.append()`!)\n",
    "* find out at which list position is the `\"chicken\"`\n",
    "* remove `\"butter\"` from the shopping list (turns out we already have that at home)\n",
    "* count how many times does `\"onions\"` appear on the list\n",
    "* sort the shopping list alphabetically, and print it out\n",
    "* make sure that every item appears only once by converting the list to a set, and saving it into the variable `shopping_set`.\n",
    "* how many *unique* items are in our shopping set now?"
   ]
  },
  {
   "cell_type": "markdown",
   "metadata": {},
   "source": [
    "**Solve Task 1**"
   ]
  },
  {
   "cell_type": "code",
   "execution_count": null,
   "metadata": {},
   "outputs": [],
   "source": [
    "# define the variables \"shopping_list\" and \"snacks\" by running this cell\n",
    "shopping_list = [\n",
    "    \"onions\", \"milk\", \"bread\", \"butter\", \"rice\", \"vinegar\", \n",
    "    \"oil\", \"pineapple\", \"onions\", \"salt\", \"chips\", \"rice\", \n",
    "    \"chicken\", \"parsley\", \"mint\", \"oil\", \"sugar\", \"onions\"\n",
    "    ]\n",
    "snacks = [\"chocolate\", \"ice cream\", \"chips\"]"
   ]
  },
  {
   "cell_type": "code",
   "execution_count": null,
   "metadata": {},
   "outputs": [],
   "source": [
    "# add oranges"
   ]
  },
  {
   "cell_type": "code",
   "execution_count": null,
   "metadata": {},
   "outputs": [],
   "source": [
    "# add snacks"
   ]
  },
  {
   "cell_type": "code",
   "execution_count": null,
   "metadata": {},
   "outputs": [],
   "source": [
    "# where is the chicken?"
   ]
  },
  {
   "cell_type": "code",
   "execution_count": null,
   "metadata": {},
   "outputs": [],
   "source": [
    "# remove the butter"
   ]
  },
  {
   "cell_type": "code",
   "execution_count": null,
   "metadata": {},
   "outputs": [],
   "source": [
    "# Count how many times \"onions\" is on the list"
   ]
  },
  {
   "cell_type": "code",
   "execution_count": null,
   "metadata": {},
   "outputs": [],
   "source": [
    "# sort the list alphabetically, and print it out"
   ]
  },
  {
   "cell_type": "code",
   "execution_count": null,
   "metadata": {},
   "outputs": [],
   "source": [
    "# convert into a shopping SET"
   ]
  },
  {
   "cell_type": "code",
   "execution_count": null,
   "metadata": {},
   "outputs": [],
   "source": [
    "# number of unique items in a set = simply the length of the set"
   ]
  },
  {
   "cell_type": "markdown",
   "metadata": {},
   "source": [
    "***\n",
    "## Task 2 - At the ice cream shop\n",
    "\n",
    "You are the owner of an ice cream shop. Your employee who sells the ice cream is a data science student! They decided to write down all ice cream orders of the day in Python. Use `list/set/tuple methods` to find out:\n",
    "* How many ice creams have been sold today?\n",
    "* How many **unique** ice creams have been sold today? \n",
    "> **Note**: the orders are saved as tuples - and for the sake of this exercise, we assume that for ice cream uniqueness, the order matters: `('yoghurt', 'mint')` is **not** the same as `('mint', 'yoghurt')`\n",
    "* How many customers have ordered the same flavor twice? (e.g. `(\"banana\", banana\")`)\n",
    "* Which was the most popular ice cream combination? (There are several ways of finding out. **Hint**: it has been sold five times!)\n",
    "* How many different ice cream flavours have been sold today?"
   ]
  },
  {
   "cell_type": "code",
   "execution_count": null,
   "metadata": {},
   "outputs": [],
   "source": [
    "# run this cell to define the icecream_sold variable\n",
    "icecream_sold = [\n",
    "    ('yoghurt', 'mint'), ('cookie', 'cookie'), ('caramel', 'yoghurt'), ('yoghurt', 'straciatella'), ('caramel', 'straciatella'),\n",
    "    ('vanilla', 'yoghurt'), ('hazelnut', 'banana'), ('straciatella', 'straciatella'), ('cookie', 'cookie'), ('cookie', 'caramel'),\n",
    "    ('banana', 'straciatella'), ('cheesecake', 'cookie'), ('chocolate', 'chocolate'), ('mint', 'hazelnut'), ('hazelnut', 'cheesecake'),\n",
    "    ('caramel', 'vanilla'), ('yoghurt', 'mint'), ('cheesecake', 'vanilla'), ('chocolate', 'cookie'), ('mint', 'strawberry'), ('cookie', 'strawberry'),\n",
    "    ('hazelnut', 'vanilla'), ('yoghurt', 'strawberry'), ('strawberry', 'chocolate'), ('cheesecake', 'cookie'), ('straciatella', 'vanilla'),\n",
    "    ('caramel', 'banana'), ('mint', 'straciatella'), ('caramel', 'strawberry'), ('cookie', 'strawberry'), ('caramel', 'yoghurt'),\n",
    "    ('strawberry', 'mint'), ('mint', 'hazelnut'), ('banana', 'hazelnut'), ('straciatella', 'banana'), ('mint', 'straciatella'),\n",
    "    ('cheesecake', 'chocolate'), ('mint', 'yoghurt'), ('cookie', 'banana'), ('cheesecake', 'mint'), ('banana', 'straciatella'),\n",
    "    ('mint', 'straciatella'), ('straciatella', 'straciatella'), ('cookie', 'mint'), ('cookie', 'straciatella'), ('banana', 'caramel'),\n",
    "    ('mint', 'cheesecake'), ('chocolate', 'banana'), ('cheesecake', 'vanilla'), ('vanilla', 'yoghurt'), ('hazelnut', 'yoghurt'),\n",
    "    ('hazelnut', 'cookie'), ('strawberry', 'cookie'), ('yoghurt', 'cheesecake'), ('cheesecake', 'banana'), ('vanilla', 'hazelnut'), \n",
    "    ('cookie', 'strawberry'), ('mint', 'straciatella'), ('cheesecake', 'vanilla'), ('cookie', 'strawberry'), ('cookie', 'strawberry')\n",
    "]"
   ]
  },
  {
   "cell_type": "code",
   "execution_count": null,
   "metadata": {},
   "outputs": [],
   "source": [
    "# How many ice creams have been sold today?"
   ]
  },
  {
   "cell_type": "code",
   "execution_count": null,
   "metadata": {},
   "outputs": [],
   "source": [
    "# How many UNIQUE ice creams have been sold today?"
   ]
  },
  {
   "cell_type": "code",
   "execution_count": null,
   "metadata": {},
   "outputs": [],
   "source": [
    "# How many customers have ordered the same flavour twice?"
   ]
  },
  {
   "cell_type": "code",
   "execution_count": null,
   "metadata": {},
   "outputs": [],
   "source": [
    "# Which was the most popular ice cream combination? (if we already know that it has been sold exactly 5 times)"
   ]
  },
  {
   "cell_type": "code",
   "execution_count": null,
   "metadata": {},
   "outputs": [],
   "source": [
    "# How many different ice cream flavours have been sold?"
   ]
  },
  {
   "cell_type": "markdown",
   "metadata": {},
   "source": [
    "***\n",
    "## Task 3\n",
    "\n",
    "**(3a)** Write a function `count_A` that takes a string as an input and uses a `for` loop to count how many times the capital letter `A` appears in it. Test your function on the string `\"THE CAPITAL OF MADAGASCAR IS ANTANANARIVO\"` by asserting that it returns the expected number of letters.\n",
    "\n",
    "**(3b)** Write a modified function, `count_Aa`, which counts both capitalized and small letters (`A` and `a`). Test your modified function on the string `\"A change is as good as a rest\"` by asserting that it returns the expected number of letters.\n"
   ]
  },
  {
   "cell_type": "markdown",
   "metadata": {},
   "source": [
    "**Solve Task 3**"
   ]
  },
  {
   "cell_type": "code",
   "execution_count": null,
   "metadata": {},
   "outputs": [],
   "source": [
    "# 3a\n",
    "def count_A(input_string):\n",
    "    raise NotImplementedError() # ERASE THIS LINE OF CODE\n",
    "    # YOUR CODE HERE"
   ]
  },
  {
   "cell_type": "code",
   "execution_count": null,
   "metadata": {},
   "outputs": [],
   "source": [
    "# check if you have implemented the function correctly with assert and the test string:\n",
    "test_string = \"THE CAPITAL OF MADAGASCAR IS ANTANANARIVO\""
   ]
  },
  {
   "cell_type": "code",
   "execution_count": null,
   "metadata": {},
   "outputs": [],
   "source": [
    "# 3b\n",
    "def count_Aa(input_string):\n",
    "    raise NotImplementedError() # ERASE THIS LINE OF CODE\n",
    "    # YOUR CODE HERE"
   ]
  },
  {
   "cell_type": "code",
   "execution_count": null,
   "metadata": {},
   "outputs": [],
   "source": [
    "# check if you have implemented the function correctly with assert and the test string:\n",
    "test_string = \"A change is as good as a rest\""
   ]
  },
  {
   "cell_type": "markdown",
   "metadata": {},
   "source": [
    "***\n",
    "## Task 4\n",
    "\n",
    "**(4a)** Use a `for` loop and the variable `my_sum` (initially set to 0) to calculate the sum of all numbers from 0 to 500.\n",
    "\n",
    "**(4b)** Use a `for` loop and the variable `my_sum` (initially set to 0) to calculate the sum of all **even** numbers from 0 to 500.\n",
    "\n",
    "**(4c)** Use a `for` loop and the variable `my_sum` (initially set to 0) to calculate the sum of all **divisible by 7** numbers from 0 to 500.\n",
    "\n",
    "> **Hint:** Use the modulo operator `%` for (4b) and (4c)"
   ]
  },
  {
   "cell_type": "markdown",
   "metadata": {},
   "source": [
    "**Solve Task 4**"
   ]
  },
  {
   "cell_type": "code",
   "execution_count": 1,
   "metadata": {},
   "outputs": [],
   "source": [
    "# 4a: sum of numbers from 0 to 500"
   ]
  },
  {
   "cell_type": "code",
   "execution_count": null,
   "metadata": {},
   "outputs": [],
   "source": [
    "# 4b: sum of all even numbers from 0 to 500\n",
    "# same as above, but using a conditional and the modulo %:"
   ]
  },
  {
   "cell_type": "code",
   "execution_count": null,
   "metadata": {},
   "outputs": [],
   "source": [
    "# 4b: alternative solution: we can also make range() take steps of 2:"
   ]
  },
  {
   "cell_type": "code",
   "execution_count": null,
   "metadata": {},
   "outputs": [],
   "source": [
    "# 4c: same as above, but now with modulo 7 instead of modulo 2"
   ]
  },
  {
   "cell_type": "markdown",
   "metadata": {},
   "source": [
    "*** \n",
    "## Task 5\n",
    "\n",
    "Use a `while` loop and the assignment operator `+=` to calculate the sum of all numbers from 0 to 500. (Note: this is just a different way of solving task 2a).\n",
    "\n",
    "> **Bonus:** Find an analytical expression to compute this sum with pen&paper. "
   ]
  },
  {
   "cell_type": "markdown",
   "metadata": {},
   "source": [
    "**Solve Task 5**"
   ]
  },
  {
   "cell_type": "code",
   "execution_count": null,
   "metadata": {},
   "outputs": [],
   "source": [
    "# task 5"
   ]
  },
  {
   "cell_type": "code",
   "execution_count": null,
   "metadata": {},
   "outputs": [],
   "source": [
    "# altenative solution of task 5: make an \"eternal\" while loop, but break out of it when i becomes > 500"
   ]
  },
  {
   "cell_type": "markdown",
   "metadata": {},
   "source": [
    "**Analytical expression for the sum:**"
   ]
  },
  {
   "cell_type": "code",
   "execution_count": null,
   "metadata": {},
   "outputs": [],
   "source": []
  },
  {
   "cell_type": "markdown",
   "metadata": {},
   "source": [
    "***\n",
    "## Task 6\n",
    "\n",
    "Use a `for` loop **or** a `while` loop to find out how many integers (0 + 1 + 2 +3 ... + n) you need to sum up to obtain 253. (There are many different ways to do this! If you find just 1, that's enough :) \n",
    "\n",
    "**Hints** Think about how and when to break out of the loop; think about how to make sure that at each loop iteration, we increase by 1 the number that we are adding to the sum.\n",
    "\n",
    "> We can (but we don't have to...) write this task as an equation, that we want to solve for `n`:\n",
    "\n",
    "$\\sum_{i=0}^{n}{i}=253$\n"
   ]
  },
  {
   "cell_type": "markdown",
   "metadata": {},
   "source": [
    "**Solve Task 6**"
   ]
  },
  {
   "cell_type": "code",
   "execution_count": null,
   "metadata": {},
   "outputs": [],
   "source": [
    "# task 6"
   ]
  },
  {
   "cell_type": "code",
   "execution_count": null,
   "metadata": {},
   "outputs": [],
   "source": [
    "# check with an analytical expression, as above in Task 5, if we coded everything correctly"
   ]
  },
  {
   "cell_type": "markdown",
   "metadata": {},
   "source": [
    "***\n",
    "## Task 7 - Find the bug\n",
    "\n",
    "\n",
    "In the code below, somebody tried to remove all 2's from a list by looping through the list *indeces*, and removing the list *element* if its value is equal to 2. \n",
    "* Why does this not work? What is the hidden danger in this code?\n",
    "* Correct the code so that it removes all numbers \"2\" from the list! (there are several ways to do this)\n",
    "\n",
    "```python\n",
    "my_list = [2, 1, 2, 3, 4, 5]\n",
    "for i in range(len(my_list)):\n",
    "     if my_list[i] == 2:\n",
    "        my_list.remove(my_list[i])\n",
    "print(my_list)\n",
    "```"
   ]
  },
  {
   "cell_type": "code",
   "execution_count": null,
   "metadata": {},
   "outputs": [],
   "source": [
    "# Find the bug in the code below!\n",
    "my_list = [2, 1, 2, 3, 4, 5]\n",
    "for i in range(len(my_list)):\n",
    "    if my_list[i] == 2:\n",
    "        my_list.remove(my_list[i])\n",
    "print(my_list)"
   ]
  },
  {
   "cell_type": "markdown",
   "metadata": {},
   "source": []
  }
 ],
 "metadata": {
  "kernelspec": {
   "display_name": "Python 3 (ipykernel)",
   "language": "python",
   "name": "python3"
  },
  "language_info": {
   "codemirror_mode": {
    "name": "ipython",
    "version": 3
   },
   "file_extension": ".py",
   "mimetype": "text/x-python",
   "name": "python",
   "nbconvert_exporter": "python",
   "pygments_lexer": "ipython3",
   "version": "3.9.7"
  }
 },
 "nbformat": 4,
 "nbformat_minor": 2
}
